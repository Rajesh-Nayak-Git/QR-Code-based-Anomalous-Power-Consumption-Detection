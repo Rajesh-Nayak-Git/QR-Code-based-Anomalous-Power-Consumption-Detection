{
 "cells": [
  {
   "cell_type": "code",
   "execution_count": 1,
   "id": "ffdc4599",
   "metadata": {},
   "outputs": [],
   "source": [
    "import numpy as np \n",
    "import matplotlib.pyplot as plt\n",
    "import glob\n",
    "# import cv2\n",
    "from PIL import Image\n",
    "from sklearn.preprocessing import LabelEncoder, OneHotEncoder\n",
    "from tensorflow.keras.models import Model, Sequential\n",
    "from tensorflow.keras.layers import Dense, Flatten, Conv2D, MaxPooling2D\n",
    "# from tensorflow.keras.layers.normalization import BatchNormalization\n",
    "import os\n",
    "import seaborn as sns\n",
    "# from keras.applications import DenseNet121\n",
    "from tensorflow.python.keras.layers import Dense, Flatten, GlobalAveragePooling2D"
   ]
  },
  {
   "cell_type": "code",
   "execution_count": 2,
   "id": "d2ee5baf",
   "metadata": {},
   "outputs": [],
   "source": [
    "train_data_path = 'Training'\n",
    "test_data_path = 'Testing'"
   ]
  },
  {
   "cell_type": "code",
   "execution_count": 3,
   "id": "ebdf197b",
   "metadata": {},
   "outputs": [],
   "source": [
    "x_train = []\n",
    "y_train = []\n",
    "x_test = []\n",
    "y_test = []"
   ]
  },
  {
   "cell_type": "code",
   "execution_count": 4,
   "id": "5a03bae2",
   "metadata": {},
   "outputs": [],
   "source": [
    "# Function to process images in a folder\n",
    "def process_images(folder_path, images_list, labels_list):\n",
    "    for class_folder in os.listdir(folder_path):\n",
    "        class_path = os.path.join(folder_path, class_folder)\n",
    "        if not os.path.isdir(class_path):\n",
    "            continue\n",
    "        \n",
    "        for image_file in os.listdir(class_path):\n",
    "            image_path = os.path.join(class_path, image_file)\n",
    "            image = Image.open(image_path)\n",
    "            \n",
    "            # Convert the image to grayscale\n",
    "            image = image.convert('L')\n",
    "            \n",
    "            # Resize the image to 64x64\n",
    "            image = image.resize((64, 64))\n",
    "            \n",
    "            # Convert the image to a NumPy array\n",
    "            image_array = np.array(image)\n",
    "            \n",
    "            # Normalize the image data (if needed)\n",
    "            image_array = image_array / 255.0\n",
    "            \n",
    "            # Append the processed image and its label to the lists\n",
    "            images_list.append(image_array)\n",
    "            labels_list.append(class_folder)\n"
   ]
  },
  {
   "cell_type": "code",
   "execution_count": 5,
   "id": "dbb2965b",
   "metadata": {},
   "outputs": [],
   "source": [
    "# Process training images\n",
    "process_images(train_data_path, x_train, y_train)\n",
    "\n",
    "# Process testing images\n",
    "process_images(test_data_path, x_test, y_test)"
   ]
  },
  {
   "cell_type": "code",
   "execution_count": 6,
   "id": "030751c3",
   "metadata": {},
   "outputs": [],
   "source": [
    "x_tr=[]\n",
    "x_ts=[]\n",
    "y_tr=[]\n",
    "y_ts=[]"
   ]
  },
  {
   "cell_type": "code",
   "execution_count": 7,
   "id": "84db6e6b",
   "metadata": {},
   "outputs": [],
   "source": [
    "x_tr = np.array(x_train)\n",
    "y_tr = np.array(y_train)"
   ]
  },
  {
   "cell_type": "code",
   "execution_count": 8,
   "id": "51fd9be7",
   "metadata": {},
   "outputs": [],
   "source": [
    "x_ts = np.array(x_test)\n",
    "y_ts = np.array(y_test)"
   ]
  },
  {
   "cell_type": "code",
   "execution_count": 9,
   "id": "7a6a8002",
   "metadata": {},
   "outputs": [],
   "source": [
    "# # Convert the lists to NumPy arrays\n",
    "# x_train = np.array(x_train)\n",
    "# x_test = np.array(x_test)"
   ]
  },
  {
   "cell_type": "code",
   "execution_count": 10,
   "id": "ae2d2b38",
   "metadata": {},
   "outputs": [
    {
     "data": {
      "text/plain": [
       "((84096, 64, 64), (84096,), (21024, 64, 64), (21024,))"
      ]
     },
     "execution_count": 10,
     "metadata": {},
     "output_type": "execute_result"
    }
   ],
   "source": [
    "x_tr.shape,y_tr.shape,x_ts.shape,y_ts.shape"
   ]
  },
  {
   "cell_type": "code",
   "execution_count": 11,
   "id": "766d6034",
   "metadata": {},
   "outputs": [],
   "source": [
    "# Convert class labels to categorical format using one-hot encoding\n",
    "label_encoder = LabelEncoder()\n",
    "y_train_encoded = label_encoder.fit_transform(y_tr)\n",
    "y_test_encoded = label_encoder.transform(y_ts)\n",
    "\n",
    "onehot_encoder = OneHotEncoder(sparse=False)\n",
    "y_tr1 = onehot_encoder.fit_transform(y_train_encoded.reshape(-1, 1))\n",
    "y_ts1 = onehot_encoder.transform(y_test_encoded.reshape(-1, 1))"
   ]
  },
  {
   "cell_type": "code",
   "execution_count": 12,
   "id": "2c8d69b7",
   "metadata": {},
   "outputs": [
    {
     "data": {
      "text/plain": [
       "((84096, 64, 64), (84096, 5), (21024, 64, 64), (21024, 5))"
      ]
     },
     "execution_count": 12,
     "metadata": {},
     "output_type": "execute_result"
    }
   ],
   "source": [
    "x_tr.shape,y_tr1.shape,x_ts.shape,y_ts1.shape"
   ]
  },
  {
   "cell_type": "code",
   "execution_count": 13,
   "id": "50825bae",
   "metadata": {},
   "outputs": [],
   "source": [
    "# Reshape the data by adding an extra dimension\n",
    "x_tr = np.expand_dims(x_tr, axis=-1)\n",
    "x_ts = np.expand_dims(x_ts, axis=-1)"
   ]
  },
  {
   "cell_type": "code",
   "execution_count": 14,
   "id": "ef16783d",
   "metadata": {},
   "outputs": [
    {
     "data": {
      "text/plain": [
       "((84096, 64, 64, 1), (84096, 5), (21024, 64, 64, 1), (21024, 5))"
      ]
     },
     "execution_count": 14,
     "metadata": {},
     "output_type": "execute_result"
    }
   ],
   "source": [
    "x_tr.shape,y_tr1.shape,x_ts.shape,y_ts1.shape"
   ]
  },
  {
   "cell_type": "code",
   "execution_count": 15,
   "id": "5d846757",
   "metadata": {},
   "outputs": [],
   "source": [
    "from tensorflow.keras.models import Sequential\n",
    "from tensorflow.keras.layers import Conv2D, MaxPooling2D, Flatten, Dense, Dropout"
   ]
  },
  {
   "cell_type": "code",
   "execution_count": 16,
   "id": "c84ce67a",
   "metadata": {},
   "outputs": [
    {
     "name": "stdout",
     "output_type": "stream",
     "text": [
      "Model: \"sequential\"\n",
      "_________________________________________________________________\n",
      " Layer (type)                Output Shape              Param #   \n",
      "=================================================================\n",
      " conv2d (Conv2D)             (None, 64, 64, 32)        832       \n",
      "                                                                 \n",
      " max_pooling2d (MaxPooling2D  (None, 21, 21, 32)       0         \n",
      " )                                                               \n",
      "                                                                 \n",
      " dropout (Dropout)           (None, 21, 21, 32)        0         \n",
      "                                                                 \n",
      " conv2d_1 (Conv2D)           (None, 21, 21, 32)        25632     \n",
      "                                                                 \n",
      " max_pooling2d_1 (MaxPooling  (None, 7, 7, 32)         0         \n",
      " 2D)                                                             \n",
      "                                                                 \n",
      " dropout_1 (Dropout)         (None, 7, 7, 32)          0         \n",
      "                                                                 \n",
      " conv2d_2 (Conv2D)           (None, 7, 7, 32)          9248      \n",
      "                                                                 \n",
      " max_pooling2d_2 (MaxPooling  (None, 3, 3, 32)         0         \n",
      " 2D)                                                             \n",
      "                                                                 \n",
      " dropout_2 (Dropout)         (None, 3, 3, 32)          0         \n",
      "                                                                 \n",
      " flatten (Flatten)           (None, 288)               0         \n",
      "                                                                 \n",
      " dense (Dense)               (None, 128)               36992     \n",
      "                                                                 \n",
      " dropout_3 (Dropout)         (None, 128)               0         \n",
      "                                                                 \n",
      " dense_1 (Dense)             (None, 5)                 645       \n",
      "                                                                 \n",
      "=================================================================\n",
      "Total params: 73,349\n",
      "Trainable params: 73,349\n",
      "Non-trainable params: 0\n",
      "_________________________________________________________________\n"
     ]
    }
   ],
   "source": [
    "# Define the shape of the input data\n",
    "input_shape = (64, 64, 1)\n",
    "\n",
    "# Define the number of classes\n",
    "num_classes = 5\n",
    "\n",
    "# Define the 2D CNN model architecture\n",
    "model = Sequential()\n",
    "model.add(Conv2D(32, kernel_size=(5, 5), activation='relu', padding='same', input_shape=input_shape))\n",
    "model.add(MaxPooling2D(pool_size=(3, 3)))\n",
    "model.add(Dropout(0.25))\n",
    "model.add(Conv2D(32, kernel_size=(5, 5), activation='relu', padding='same'))\n",
    "model.add(MaxPooling2D(pool_size=(3, 3)))\n",
    "model.add(Dropout(0.25))\n",
    "model.add(Conv2D(32, kernel_size=(3, 3), activation='relu', padding='same'))\n",
    "model.add(MaxPooling2D(pool_size=(2, 2)))\n",
    "model.add(Dropout(0.25))\n",
    "model.add(Flatten())\n",
    "# Fully connected\n",
    "model.add(Dense(128, activation='relu'))\n",
    "model.add(Dropout(0.5))\n",
    "# Output layer\n",
    "model.add(Dense(num_classes, activation='softmax'))\n",
    "\n",
    "model.summary()"
   ]
  },
  {
   "cell_type": "code",
   "execution_count": 17,
   "id": "1f879cb5",
   "metadata": {},
   "outputs": [],
   "source": [
    "# Compile the model\n",
    "model.compile(loss='categorical_crossentropy', optimizer='adam', metrics=['accuracy'])"
   ]
  },
  {
   "cell_type": "code",
   "execution_count": 19,
   "id": "9e084847",
   "metadata": {
    "scrolled": false
   },
   "outputs": [
    {
     "name": "stdout",
     "output_type": "stream",
     "text": [
      "Epoch 1/50\n",
      "1314/1314 [==============================] - 137s 104ms/step - loss: 0.2402 - accuracy: 0.9119\n",
      "Epoch 2/50\n",
      "1314/1314 [==============================] - 139s 105ms/step - loss: 0.2358 - accuracy: 0.9122\n",
      "Epoch 3/50\n",
      "1314/1314 [==============================] - 142s 108ms/step - loss: 0.2355 - accuracy: 0.9131\n",
      "Epoch 4/50\n",
      "1314/1314 [==============================] - 141s 107ms/step - loss: 0.2344 - accuracy: 0.9130\n",
      "Epoch 5/50\n",
      "1314/1314 [==============================] - 142s 108ms/step - loss: 0.2341 - accuracy: 0.9147\n",
      "Epoch 6/50\n",
      "1314/1314 [==============================] - 136s 104ms/step - loss: 0.2260 - accuracy: 0.9160\n",
      "Epoch 7/50\n",
      "1314/1314 [==============================] - 139s 106ms/step - loss: 0.2292 - accuracy: 0.9158\n",
      "Epoch 8/50\n",
      "1314/1314 [==============================] - 140s 107ms/step - loss: 0.2287 - accuracy: 0.9161\n",
      "Epoch 9/50\n",
      "1314/1314 [==============================] - 141s 107ms/step - loss: 0.2281 - accuracy: 0.9158\n",
      "Epoch 10/50\n",
      "1314/1314 [==============================] - 134s 102ms/step - loss: 0.2259 - accuracy: 0.9175\n",
      "Epoch 11/50\n",
      "1314/1314 [==============================] - 133s 101ms/step - loss: 0.2252 - accuracy: 0.9166\n",
      "Epoch 12/50\n",
      "1314/1314 [==============================] - 133s 101ms/step - loss: 0.2249 - accuracy: 0.9169\n",
      "Epoch 13/50\n",
      "1314/1314 [==============================] - 134s 102ms/step - loss: 0.2246 - accuracy: 0.9178\n",
      "Epoch 14/50\n",
      "1314/1314 [==============================] - 133s 101ms/step - loss: 0.2217 - accuracy: 0.9188\n",
      "Epoch 15/50\n",
      "1314/1314 [==============================] - 133s 101ms/step - loss: 0.2200 - accuracy: 0.9192\n",
      "Epoch 16/50\n",
      "1314/1314 [==============================] - 133s 101ms/step - loss: 0.2218 - accuracy: 0.9180\n",
      "Epoch 17/50\n",
      "1314/1314 [==============================] - 130s 99ms/step - loss: 0.2217 - accuracy: 0.9195\n",
      "Epoch 18/50\n",
      "1314/1314 [==============================] - 130s 99ms/step - loss: 0.2177 - accuracy: 0.9188\n",
      "Epoch 19/50\n",
      "1314/1314 [==============================] - 130s 99ms/step - loss: 0.2197 - accuracy: 0.9195\n",
      "Epoch 20/50\n",
      "1314/1314 [==============================] - 131s 100ms/step - loss: 0.2177 - accuracy: 0.9210\n",
      "Epoch 21/50\n",
      "1314/1314 [==============================] - 138s 105ms/step - loss: 0.2168 - accuracy: 0.9209\n",
      "Epoch 22/50\n",
      "1314/1314 [==============================] - 134s 102ms/step - loss: 0.2143 - accuracy: 0.9210\n",
      "Epoch 23/50\n",
      "1314/1314 [==============================] - 136s 103ms/step - loss: 0.2144 - accuracy: 0.9213\n",
      "Epoch 24/50\n",
      "1314/1314 [==============================] - 135s 103ms/step - loss: 0.2125 - accuracy: 0.9221\n",
      "Epoch 25/50\n",
      "1314/1314 [==============================] - 135s 103ms/step - loss: 0.2163 - accuracy: 0.9207\n",
      "Epoch 26/50\n",
      "1314/1314 [==============================] - 134s 102ms/step - loss: 0.2146 - accuracy: 0.9214\n",
      "Epoch 27/50\n",
      "1314/1314 [==============================] - 134s 102ms/step - loss: 0.2123 - accuracy: 0.9217\n",
      "Epoch 28/50\n",
      "1314/1314 [==============================] - 135s 102ms/step - loss: 0.2122 - accuracy: 0.9221\n",
      "Epoch 29/50\n",
      "1314/1314 [==============================] - 135s 102ms/step - loss: 0.2112 - accuracy: 0.9216\n",
      "Epoch 30/50\n",
      "1314/1314 [==============================] - 136s 103ms/step - loss: 0.2119 - accuracy: 0.9225\n",
      "Epoch 31/50\n",
      "1314/1314 [==============================] - 134s 102ms/step - loss: 0.2094 - accuracy: 0.9219\n",
      "Epoch 32/50\n",
      "1314/1314 [==============================] - 135s 102ms/step - loss: 0.2098 - accuracy: 0.9229\n",
      "Epoch 33/50\n",
      "1314/1314 [==============================] - 134s 102ms/step - loss: 0.2101 - accuracy: 0.9232\n",
      "Epoch 34/50\n",
      "1314/1314 [==============================] - 136s 103ms/step - loss: 0.2060 - accuracy: 0.9242\n",
      "Epoch 35/50\n",
      "1314/1314 [==============================] - 134s 102ms/step - loss: 0.2076 - accuracy: 0.9236\n",
      "Epoch 36/50\n",
      "1314/1314 [==============================] - 134s 102ms/step - loss: 0.2078 - accuracy: 0.9231\n",
      "Epoch 37/50\n",
      "1314/1314 [==============================] - 133s 101ms/step - loss: 0.2079 - accuracy: 0.9235\n",
      "Epoch 38/50\n",
      "1314/1314 [==============================] - 134s 102ms/step - loss: 0.2038 - accuracy: 0.9253\n",
      "Epoch 39/50\n",
      "1314/1314 [==============================] - 133s 101ms/step - loss: 0.2060 - accuracy: 0.9248\n",
      "Epoch 40/50\n",
      "1314/1314 [==============================] - 133s 101ms/step - loss: 0.2044 - accuracy: 0.9234\n",
      "Epoch 41/50\n",
      "1314/1314 [==============================] - 134s 102ms/step - loss: 0.2032 - accuracy: 0.9256\n",
      "Epoch 42/50\n",
      "1314/1314 [==============================] - 133s 101ms/step - loss: 0.2063 - accuracy: 0.9246\n",
      "Epoch 43/50\n",
      "1314/1314 [==============================] - 135s 103ms/step - loss: 0.2038 - accuracy: 0.9248\n",
      "Epoch 44/50\n",
      "1314/1314 [==============================] - 133s 102ms/step - loss: 0.2011 - accuracy: 0.9253\n",
      "Epoch 45/50\n",
      "1314/1314 [==============================] - 134s 102ms/step - loss: 0.2039 - accuracy: 0.9249\n",
      "Epoch 46/50\n",
      "1314/1314 [==============================] - 134s 102ms/step - loss: 0.2029 - accuracy: 0.9264\n",
      "Epoch 47/50\n",
      "1314/1314 [==============================] - 133s 102ms/step - loss: 0.2015 - accuracy: 0.9253\n",
      "Epoch 48/50\n",
      "1314/1314 [==============================] - 134s 102ms/step - loss: 0.1992 - accuracy: 0.9268\n",
      "Epoch 49/50\n",
      "1314/1314 [==============================] - 134s 102ms/step - loss: 0.2053 - accuracy: 0.9258\n",
      "Epoch 50/50\n",
      "1314/1314 [==============================] - 135s 102ms/step - loss: 0.2033 - accuracy: 0.9254\n"
     ]
    }
   ],
   "source": [
    "# Fit the model to the training data\n",
    "history=model.fit(x_tr, y_tr1, batch_size=64, epochs=50)"
   ]
  },
  {
   "cell_type": "code",
   "execution_count": null,
   "id": "8c90925b",
   "metadata": {},
   "outputs": [],
   "source": [
    "# _, accuracy = model.evaluate(x_ts, y_ts1, batch_size=64, verbose=0)"
   ]
  },
  {
   "cell_type": "code",
   "execution_count": null,
   "id": "4affc10a",
   "metadata": {},
   "outputs": [],
   "source": [
    "# accuracy"
   ]
  },
  {
   "cell_type": "code",
   "execution_count": 20,
   "id": "a59f0cb0",
   "metadata": {},
   "outputs": [
    {
     "name": "stdout",
     "output_type": "stream",
     "text": [
      "657/657 [==============================] - 13s 19ms/step\n"
     ]
    }
   ],
   "source": [
    "prediction = model.predict(x_ts)"
   ]
  },
  {
   "cell_type": "code",
   "execution_count": 21,
   "id": "76094272",
   "metadata": {},
   "outputs": [],
   "source": [
    "prediction_NN=np.argmax(prediction, axis=-1)"
   ]
  },
  {
   "cell_type": "code",
   "execution_count": 22,
   "id": "456d02d0",
   "metadata": {},
   "outputs": [
    {
     "data": {
      "text/plain": [
       "array([0, 0, 0, ..., 4, 4, 4], dtype=int64)"
      ]
     },
     "execution_count": 22,
     "metadata": {},
     "output_type": "execute_result"
    }
   ],
   "source": [
    "prediction_NN"
   ]
  },
  {
   "cell_type": "code",
   "execution_count": 23,
   "id": "f8f21795",
   "metadata": {},
   "outputs": [],
   "source": [
    "y_ts1_1=np.argmax(y_ts1, axis=-1)"
   ]
  },
  {
   "cell_type": "code",
   "execution_count": 24,
   "id": "69a72fa4",
   "metadata": {},
   "outputs": [
    {
     "data": {
      "text/plain": [
       "array([0, 0, 0, ..., 4, 4, 4], dtype=int64)"
      ]
     },
     "execution_count": 24,
     "metadata": {},
     "output_type": "execute_result"
    }
   ],
   "source": [
    "y_ts1_1"
   ]
  },
  {
   "cell_type": "code",
   "execution_count": 25,
   "id": "93b307e7",
   "metadata": {},
   "outputs": [
    {
     "name": "stdout",
     "output_type": "stream",
     "text": [
      "Accuracy =  0.947060502283105\n"
     ]
    }
   ],
   "source": [
    "from sklearn import metrics\n",
    "print (\"Accuracy = \", metrics.accuracy_score(y_ts1_1, prediction_NN))"
   ]
  },
  {
   "cell_type": "code",
   "execution_count": 26,
   "id": "533857e6",
   "metadata": {},
   "outputs": [
    {
     "name": "stdout",
     "output_type": "stream",
     "text": [
      "[[11822    10    13    58    23]\n",
      " [  214  1163     1     7   192]\n",
      " [   19     0  1500     0    17]\n",
      " [  280     9     0   773   199]\n",
      " [   12    23     4    32  4653]]\n"
     ]
    }
   ],
   "source": [
    "#Confusion Matrix - verify accuracy of each class\n",
    "from sklearn.metrics import confusion_matrix\n",
    "cm = confusion_matrix(y_ts1_1, prediction_NN)\n",
    "print(cm)"
   ]
  },
  {
   "cell_type": "code",
   "execution_count": 27,
   "id": "36b85e5d",
   "metadata": {},
   "outputs": [
    {
     "name": "stdout",
     "output_type": "stream",
     "text": [
      "              precision    recall  f1-score   support\n",
      "\n",
      "     Class 0      0.957     0.991     0.974     11926\n",
      "     Class 1      0.965     0.737     0.836      1577\n",
      "     Class 2      0.988     0.977     0.982      1536\n",
      "     Class 3      0.889     0.613     0.725      1261\n",
      "     Class 4      0.915     0.985     0.949      4724\n",
      "\n",
      "    accuracy                          0.947     21024\n",
      "   macro avg      0.943     0.861     0.893     21024\n",
      "weighted avg      0.947     0.947     0.944     21024\n",
      "\n"
     ]
    }
   ],
   "source": [
    "from sklearn.metrics import classification_report\n",
    "\n",
    "# print(class_labels)\n",
    "target_names = ['Class 0', 'Class 1', 'Class 2', 'Class 3', 'Class 4']\n",
    "print(classification_report(y_ts1_1, prediction_NN, target_names=target_names,digits=3))"
   ]
  },
  {
   "cell_type": "code",
   "execution_count": 28,
   "id": "20189cc6",
   "metadata": {},
   "outputs": [],
   "source": [
    "model.save('M3_all_imgs_3lyr.h5')"
   ]
  },
  {
   "cell_type": "code",
   "execution_count": 29,
   "id": "e0996c47",
   "metadata": {},
   "outputs": [],
   "source": [
    "import matplotlib.pyplot as plt"
   ]
  },
  {
   "cell_type": "code",
   "execution_count": 30,
   "id": "bc8ded41",
   "metadata": {},
   "outputs": [],
   "source": [
    "from mlxtend.plotting import plot_confusion_matrix"
   ]
  },
  {
   "cell_type": "code",
   "execution_count": 31,
   "id": "91630769",
   "metadata": {},
   "outputs": [
    {
     "data": {
      "image/png": "[encoded data removed]",
      "text/plain": [
       "<Figure size 640x480 with 2 Axes>"
      ]
     },
     "metadata": {},
     "output_type": "display_data"
    }
   ],
   "source": [
    "class_dict = {0: 'Class 0',\n",
    "              1: 'Class 1',\n",
    "              2: 'Class 2',\n",
    "              3: 'Class 3',\n",
    "              4: 'Class 4'}\n",
    "\n",
    "multiclass = np.array([[11822,    10,    13,    58,    23],\n",
    "                       [214,  1163,     1,     7,   192],\n",
    "                       [19,     0,  1500,     0,    17],\n",
    "                       [280,     9,     0,   773,   199],\n",
    "                       [12,    23,     4,    32,  4653]])\n",
    "\n",
    "fig, ax = plot_confusion_matrix(\n",
    "    conf_mat=multiclass,\n",
    "    class_names=class_dict.values(),show_normed=True,colorbar=True)"
   ]
  },
  {
   "cell_type": "code",
   "execution_count": null,
   "id": "ea41c4e2",
   "metadata": {},
   "outputs": [],
   "source": []
  }
 ],
 "metadata": {
  "kernelspec": {
   "display_name": "Python 3 (ipykernel)",
   "language": "python",
   "name": "python3"
  },
  "language_info": {
   "codemirror_mode": {
    "name": "ipython",
    "version": 3
   },
   "file_extension": ".py",
   "mimetype": "text/x-python",
   "name": "python",
   "nbconvert_exporter": "python",
   "pygments_lexer": "ipython3",
   "version": "3.9.13"
  }
 },
 "nbformat": 4,
 "nbformat_minor": 5
}
