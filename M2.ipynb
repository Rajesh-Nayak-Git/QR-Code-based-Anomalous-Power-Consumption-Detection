{
 "cells": [
  {
   "cell_type": "code",
   "execution_count": 1,
   "id": "ffdc4599",
   "metadata": {},
   "outputs": [],
   "source": [
    "import numpy as np \n",
    "import matplotlib.pyplot as plt\n",
    "import glob\n",
    "# import cv2\n",
    "from PIL import Image\n",
    "from sklearn.preprocessing import LabelEncoder, OneHotEncoder\n",
    "from tensorflow.keras.models import Model, Sequential\n",
    "from tensorflow.keras.layers import Dense, Flatten, Conv2D, MaxPooling2D\n",
    "# from tensorflow.keras.layers.normalization import BatchNormalization\n",
    "import os\n",
    "import seaborn as sns\n",
    "# from keras.applications import DenseNet121\n",
    "from tensorflow.python.keras.layers import Dense, Flatten, GlobalAveragePooling2D"
   ]
  },
  {
   "cell_type": "code",
   "execution_count": 2,
   "id": "d2ee5baf",
   "metadata": {},
   "outputs": [],
   "source": [
    "train_data_path = 'Training'\n",
    "test_data_path = 'Testing'"
   ]
  },
  {
   "cell_type": "code",
   "execution_count": 3,
   "id": "ebdf197b",
   "metadata": {},
   "outputs": [],
   "source": [
    "x_train = []\n",
    "y_train = []\n",
    "x_test = []\n",
    "y_test = []"
   ]
  },
  {
   "cell_type": "code",
   "execution_count": 4,
   "id": "5a03bae2",
   "metadata": {},
   "outputs": [],
   "source": [
    "# Function to process images in a folder\n",
    "def process_images(folder_path, images_list, labels_list):\n",
    "    for class_folder in os.listdir(folder_path):\n",
    "        class_path = os.path.join(folder_path, class_folder)\n",
    "        if not os.path.isdir(class_path):\n",
    "            continue\n",
    "        \n",
    "        for image_file in os.listdir(class_path):\n",
    "            image_path = os.path.join(class_path, image_file)\n",
    "            image = Image.open(image_path)\n",
    "            \n",
    "            # Convert the image to grayscale\n",
    "            image = image.convert('L')\n",
    "            \n",
    "            # Resize the image to 64x64\n",
    "            image = image.resize((64, 64))\n",
    "            \n",
    "            # Convert the image to a NumPy array\n",
    "            image_array = np.array(image)\n",
    "            \n",
    "            # Normalize the image data (if needed)\n",
    "            image_array = image_array / 255.0\n",
    "            \n",
    "            # Append the processed image and its label to the lists\n",
    "            images_list.append(image_array)\n",
    "            labels_list.append(class_folder)\n"
   ]
  },
  {
   "cell_type": "code",
   "execution_count": 5,
   "id": "dbb2965b",
   "metadata": {},
   "outputs": [],
   "source": [
    "# Process training images\n",
    "process_images(train_data_path, x_train, y_train)\n",
    "\n",
    "# Process testing images\n",
    "process_images(test_data_path, x_test, y_test)"
   ]
  },
  {
   "cell_type": "code",
   "execution_count": 6,
   "id": "030751c3",
   "metadata": {},
   "outputs": [],
   "source": [
    "x_tr=[]\n",
    "x_ts=[]\n",
    "y_tr=[]\n",
    "y_ts=[]"
   ]
  },
  {
   "cell_type": "code",
   "execution_count": 7,
   "id": "84db6e6b",
   "metadata": {},
   "outputs": [],
   "source": [
    "x_tr = np.array(x_train)\n",
    "y_tr = np.array(y_train)"
   ]
  },
  {
   "cell_type": "code",
   "execution_count": 8,
   "id": "51fd9be7",
   "metadata": {},
   "outputs": [],
   "source": [
    "x_ts = np.array(x_test)\n",
    "y_ts = np.array(y_test)"
   ]
  },
  {
   "cell_type": "code",
   "execution_count": 9,
   "id": "7a6a8002",
   "metadata": {},
   "outputs": [],
   "source": [
    "# # Convert the lists to NumPy arrays\n",
    "# x_train = np.array(x_train)\n",
    "# x_test = np.array(x_test)"
   ]
  },
  {
   "cell_type": "code",
   "execution_count": 10,
   "id": "ae2d2b38",
   "metadata": {},
   "outputs": [
    {
     "data": {
      "text/plain": [
       "((84096, 64, 64), (84096,), (21024, 64, 64), (21024,))"
      ]
     },
     "execution_count": 10,
     "metadata": {},
     "output_type": "execute_result"
    }
   ],
   "source": [
    "x_tr.shape,y_tr.shape,x_ts.shape,y_ts.shape"
   ]
  },
  {
   "cell_type": "code",
   "execution_count": 11,
   "id": "766d6034",
   "metadata": {},
   "outputs": [],
   "source": [
    "# Convert class labels to categorical format using one-hot encoding\n",
    "label_encoder = LabelEncoder()\n",
    "y_train_encoded = label_encoder.fit_transform(y_tr)\n",
    "y_test_encoded = label_encoder.transform(y_ts)\n",
    "\n",
    "onehot_encoder = OneHotEncoder(sparse=False)\n",
    "y_tr1 = onehot_encoder.fit_transform(y_train_encoded.reshape(-1, 1))\n",
    "y_ts1 = onehot_encoder.transform(y_test_encoded.reshape(-1, 1))"
   ]
  },
  {
   "cell_type": "code",
   "execution_count": 12,
   "id": "2c8d69b7",
   "metadata": {},
   "outputs": [
    {
     "data": {
      "text/plain": [
       "((84096, 64, 64), (84096, 5), (21024, 64, 64), (21024, 5))"
      ]
     },
     "execution_count": 12,
     "metadata": {},
     "output_type": "execute_result"
    }
   ],
   "source": [
    "x_tr.shape,y_tr1.shape,x_ts.shape,y_ts1.shape"
   ]
  },
  {
   "cell_type": "code",
   "execution_count": 13,
   "id": "50825bae",
   "metadata": {},
   "outputs": [],
   "source": [
    "# Reshape the data by adding an extra dimension\n",
    "x_tr = np.expand_dims(x_tr, axis=-1)\n",
    "x_ts = np.expand_dims(x_ts, axis=-1)"
   ]
  },
  {
   "cell_type": "code",
   "execution_count": 14,
   "id": "ef16783d",
   "metadata": {},
   "outputs": [
    {
     "data": {
      "text/plain": [
       "((84096, 64, 64, 1), (84096, 5), (21024, 64, 64, 1), (21024, 5))"
      ]
     },
     "execution_count": 14,
     "metadata": {},
     "output_type": "execute_result"
    }
   ],
   "source": [
    "x_tr.shape,y_tr1.shape,x_ts.shape,y_ts1.shape"
   ]
  },
  {
   "cell_type": "code",
   "execution_count": 15,
   "id": "5d846757",
   "metadata": {},
   "outputs": [],
   "source": [
    "from tensorflow.keras.models import Sequential\n",
    "from tensorflow.keras.layers import Conv2D, MaxPooling2D, Flatten, Dense, Dropout"
   ]
  },
  {
   "cell_type": "code",
   "execution_count": 16,
   "id": "c84ce67a",
   "metadata": {},
   "outputs": [
    {
     "name": "stdout",
     "output_type": "stream",
     "text": [
      "Model: \"sequential\"\n",
      "_________________________________________________________________\n",
      " Layer (type)                Output Shape              Param #   \n",
      "=================================================================\n",
      " conv2d (Conv2D)             (None, 64, 64, 32)        1184      \n",
      "                                                                 \n",
      " max_pooling2d (MaxPooling2D  (None, 21, 21, 32)       0         \n",
      " )                                                               \n",
      "                                                                 \n",
      " dropout (Dropout)           (None, 21, 21, 32)        0         \n",
      "                                                                 \n",
      " conv2d_1 (Conv2D)           (None, 21, 21, 32)        16416     \n",
      "                                                                 \n",
      " max_pooling2d_1 (MaxPooling  (None, 10, 10, 32)       0         \n",
      " 2D)                                                             \n",
      "                                                                 \n",
      " dropout_1 (Dropout)         (None, 10, 10, 32)        0         \n",
      "                                                                 \n",
      " flatten (Flatten)           (None, 3200)              0         \n",
      "                                                                 \n",
      " dense (Dense)               (None, 128)               409728    \n",
      "                                                                 \n",
      " dropout_2 (Dropout)         (None, 128)               0         \n",
      "                                                                 \n",
      " dense_1 (Dense)             (None, 5)                 645       \n",
      "                                                                 \n",
      "=================================================================\n",
      "Total params: 427,973\n",
      "Trainable params: 427,973\n",
      "Non-trainable params: 0\n",
      "_________________________________________________________________\n"
     ]
    }
   ],
   "source": [
    "# Define the shape of the input data\n",
    "input_shape = (64, 64, 1)\n",
    "\n",
    "# Define the number of classes\n",
    "num_classes = 5\n",
    "\n",
    "# Define the 2D CNN model architecture\n",
    "model = Sequential()\n",
    "model.add(Conv2D(32, kernel_size=(6, 6), activation='relu', padding='same', input_shape=input_shape))\n",
    "model.add(MaxPooling2D(pool_size=(3, 3)))\n",
    "model.add(Dropout(0.25))\n",
    "model.add(Conv2D(32, kernel_size=(4, 4), activation='relu', padding='same'))\n",
    "model.add(MaxPooling2D(pool_size=(2, 2)))\n",
    "model.add(Dropout(0.25))\n",
    "model.add(Flatten())\n",
    "# Fully connected\n",
    "model.add(Dense(128, activation='relu'))\n",
    "model.add(Dropout(0.5))\n",
    "# Output layer\n",
    "model.add(Dense(num_classes, activation='softmax'))\n",
    "\n",
    "model.summary()"
   ]
  },
  {
   "cell_type": "code",
   "execution_count": 17,
   "id": "1f879cb5",
   "metadata": {},
   "outputs": [],
   "source": [
    "# Compile the model\n",
    "model.compile(loss='categorical_crossentropy', optimizer='adam', metrics=['accuracy'])"
   ]
  },
  {
   "cell_type": "code",
   "execution_count": 18,
   "id": "9e084847",
   "metadata": {
    "scrolled": true
   },
   "outputs": [
    {
     "name": "stdout",
     "output_type": "stream",
     "text": [
      "Epoch 1/100\n",
      "1314/1314 [==============================] - 129s 97ms/step - loss: 0.8232 - accuracy: 0.6978\n",
      "Epoch 2/100\n",
      "1314/1314 [==============================] - 131s 100ms/step - loss: 0.4636 - accuracy: 0.8262\n",
      "Epoch 3/100\n",
      "1314/1314 [==============================] - 126s 96ms/step - loss: 0.3671 - accuracy: 0.8617\n",
      "Epoch 4/100\n",
      "1314/1314 [==============================] - 125s 95ms/step - loss: 0.3169 - accuracy: 0.8781\n",
      "Epoch 5/100\n",
      "1314/1314 [==============================] - 126s 96ms/step - loss: 0.2863 - accuracy: 0.8901\n",
      "Epoch 6/100\n",
      "1314/1314 [==============================] - 125s 95ms/step - loss: 0.2659 - accuracy: 0.8968\n",
      "Epoch 7/100\n",
      "1314/1314 [==============================] - 125s 95ms/step - loss: 0.2499 - accuracy: 0.9032\n",
      "Epoch 8/100\n",
      "1314/1314 [==============================] - 125s 95ms/step - loss: 0.2402 - accuracy: 0.9064\n",
      "Epoch 9/100\n",
      "1314/1314 [==============================] - 124s 95ms/step - loss: 0.2283 - accuracy: 0.9111\n",
      "Epoch 10/100\n",
      "1314/1314 [==============================] - 124s 94ms/step - loss: 0.2225 - accuracy: 0.9137\n",
      "Epoch 11/100\n",
      "1314/1314 [==============================] - 124s 94ms/step - loss: 0.2132 - accuracy: 0.9179\n",
      "Epoch 12/100\n",
      "1314/1314 [==============================] - 124s 95ms/step - loss: 0.2078 - accuracy: 0.9189\n",
      "Epoch 13/100\n",
      "1314/1314 [==============================] - 125s 95ms/step - loss: 0.2019 - accuracy: 0.9222\n",
      "Epoch 14/100\n",
      "1314/1314 [==============================] - 124s 94ms/step - loss: 0.1965 - accuracy: 0.9237\n",
      "Epoch 15/100\n",
      "1314/1314 [==============================] - 123s 93ms/step - loss: 0.1967 - accuracy: 0.9245\n",
      "Epoch 16/100\n",
      "1314/1314 [==============================] - 124s 95ms/step - loss: 0.1903 - accuracy: 0.9247\n",
      "Epoch 17/100\n",
      "1314/1314 [==============================] - 122s 93ms/step - loss: 0.1896 - accuracy: 0.9274\n",
      "Epoch 18/100\n",
      "1314/1314 [==============================] - 120s 91ms/step - loss: 0.1844 - accuracy: 0.9285\n",
      "Epoch 19/100\n",
      "1314/1314 [==============================] - 128s 97ms/step - loss: 0.1791 - accuracy: 0.9307\n",
      "Epoch 20/100\n",
      "1314/1314 [==============================] - 124s 94ms/step - loss: 0.1804 - accuracy: 0.9308\n",
      "Epoch 21/100\n",
      "1314/1314 [==============================] - 127s 96ms/step - loss: 0.1758 - accuracy: 0.9326\n",
      "Epoch 22/100\n",
      "1314/1314 [==============================] - 123s 94ms/step - loss: 0.1727 - accuracy: 0.9334\n",
      "Epoch 23/100\n",
      "1314/1314 [==============================] - 123s 94ms/step - loss: 0.1686 - accuracy: 0.9353\n",
      "Epoch 24/100\n",
      "1314/1314 [==============================] - 124s 94ms/step - loss: 0.1685 - accuracy: 0.9349\n",
      "Epoch 25/100\n",
      "1314/1314 [==============================] - 124s 95ms/step - loss: 0.1628 - accuracy: 0.9365\n",
      "Epoch 26/100\n",
      "1314/1314 [==============================] - 124s 94ms/step - loss: 0.1657 - accuracy: 0.9356\n",
      "Epoch 27/100\n",
      "1314/1314 [==============================] - 124s 94ms/step - loss: 0.1619 - accuracy: 0.9376\n",
      "Epoch 28/100\n",
      "1314/1314 [==============================] - 124s 94ms/step - loss: 0.1624 - accuracy: 0.9372\n",
      "Epoch 29/100\n",
      "1314/1314 [==============================] - 125s 95ms/step - loss: 0.1586 - accuracy: 0.9386\n",
      "Epoch 30/100\n",
      "1314/1314 [==============================] - 123s 94ms/step - loss: 0.1584 - accuracy: 0.9385\n",
      "Epoch 31/100\n",
      "1314/1314 [==============================] - 129s 98ms/step - loss: 0.1577 - accuracy: 0.9388\n",
      "Epoch 32/100\n",
      "1314/1314 [==============================] - 123s 94ms/step - loss: 0.1551 - accuracy: 0.9402\n",
      "Epoch 33/100\n",
      "1314/1314 [==============================] - 125s 95ms/step - loss: 0.1537 - accuracy: 0.9404\n",
      "Epoch 34/100\n",
      "1314/1314 [==============================] - 125s 95ms/step - loss: 0.1515 - accuracy: 0.9414\n",
      "Epoch 35/100\n",
      "1314/1314 [==============================] - 124s 95ms/step - loss: 0.1528 - accuracy: 0.9410\n",
      "Epoch 36/100\n",
      "1314/1314 [==============================] - 124s 95ms/step - loss: 0.1514 - accuracy: 0.9418\n",
      "Epoch 37/100\n",
      "1314/1314 [==============================] - 132s 100ms/step - loss: 0.1487 - accuracy: 0.9423\n",
      "Epoch 38/100\n",
      "1314/1314 [==============================] - 130s 99ms/step - loss: 0.1479 - accuracy: 0.9428\n",
      "Epoch 39/100\n",
      "1314/1314 [==============================] - 124s 95ms/step - loss: 0.1487 - accuracy: 0.9432\n",
      "Epoch 40/100\n",
      "1314/1314 [==============================] - 125s 95ms/step - loss: 0.1497 - accuracy: 0.9420\n",
      "Epoch 41/100\n",
      "1314/1314 [==============================] - 125s 95ms/step - loss: 0.1444 - accuracy: 0.9441\n",
      "Epoch 42/100\n",
      "1314/1314 [==============================] - 125s 95ms/step - loss: 0.1485 - accuracy: 0.9436\n",
      "Epoch 43/100\n",
      "1314/1314 [==============================] - 124s 95ms/step - loss: 0.1434 - accuracy: 0.9448\n",
      "Epoch 44/100\n",
      "1314/1314 [==============================] - 124s 95ms/step - loss: 0.1439 - accuracy: 0.9438\n",
      "Epoch 45/100\n",
      "1314/1314 [==============================] - 124s 95ms/step - loss: 0.1462 - accuracy: 0.9447\n",
      "Epoch 46/100\n",
      "1314/1314 [==============================] - 125s 95ms/step - loss: 0.1417 - accuracy: 0.9453\n",
      "Epoch 47/100\n",
      "1314/1314 [==============================] - 125s 95ms/step - loss: 0.1441 - accuracy: 0.9448\n",
      "Epoch 48/100\n",
      "1314/1314 [==============================] - 125s 95ms/step - loss: 0.1405 - accuracy: 0.9465\n",
      "Epoch 49/100\n",
      "1314/1314 [==============================] - 124s 95ms/step - loss: 0.1421 - accuracy: 0.9454\n",
      "Epoch 50/100\n",
      "1314/1314 [==============================] - 125s 95ms/step - loss: 0.1409 - accuracy: 0.9462\n",
      "Epoch 51/100\n",
      "1314/1314 [==============================] - 124s 95ms/step - loss: 0.1390 - accuracy: 0.9468\n",
      "Epoch 52/100\n",
      "1314/1314 [==============================] - 125s 95ms/step - loss: 0.1382 - accuracy: 0.9472\n",
      "Epoch 53/100\n",
      "1314/1314 [==============================] - 124s 94ms/step - loss: 0.1399 - accuracy: 0.9464\n",
      "Epoch 54/100\n",
      "1314/1314 [==============================] - 125s 95ms/step - loss: 0.1397 - accuracy: 0.9471\n",
      "Epoch 55/100\n",
      "1314/1314 [==============================] - 125s 95ms/step - loss: 0.1399 - accuracy: 0.9467\n",
      "Epoch 56/100\n",
      "1314/1314 [==============================] - 126s 96ms/step - loss: 0.1390 - accuracy: 0.9470\n",
      "Epoch 57/100\n",
      "1314/1314 [==============================] - 125s 95ms/step - loss: 0.1361 - accuracy: 0.9472\n",
      "Epoch 58/100\n",
      "1314/1314 [==============================] - 125s 95ms/step - loss: 0.1359 - accuracy: 0.9480\n",
      "Epoch 59/100\n",
      "1314/1314 [==============================] - 125s 95ms/step - loss: 0.1365 - accuracy: 0.9480\n",
      "Epoch 60/100\n",
      "1314/1314 [==============================] - 126s 96ms/step - loss: 0.1364 - accuracy: 0.9471\n",
      "Epoch 61/100\n",
      "1314/1314 [==============================] - 125s 95ms/step - loss: 0.1355 - accuracy: 0.9478\n",
      "Epoch 62/100\n",
      "1314/1314 [==============================] - 126s 96ms/step - loss: 0.1340 - accuracy: 0.9490\n",
      "Epoch 63/100\n",
      "1314/1314 [==============================] - 125s 95ms/step - loss: 0.1361 - accuracy: 0.9492\n",
      "Epoch 64/100\n",
      "1314/1314 [==============================] - 125s 95ms/step - loss: 0.1325 - accuracy: 0.9491\n",
      "Epoch 65/100\n",
      "1314/1314 [==============================] - 126s 96ms/step - loss: 0.1341 - accuracy: 0.9487\n",
      "Epoch 66/100\n",
      "1314/1314 [==============================] - 125s 95ms/step - loss: 0.1334 - accuracy: 0.9494\n",
      "Epoch 67/100\n",
      "1314/1314 [==============================] - 125s 95ms/step - loss: 0.1327 - accuracy: 0.9500\n",
      "Epoch 68/100\n",
      "1314/1314 [==============================] - 125s 95ms/step - loss: 0.1316 - accuracy: 0.9502\n",
      "Epoch 69/100\n",
      "1314/1314 [==============================] - 125s 95ms/step - loss: 0.1299 - accuracy: 0.9502\n",
      "Epoch 70/100\n",
      "1314/1314 [==============================] - 128s 98ms/step - loss: 0.1326 - accuracy: 0.9500\n",
      "Epoch 71/100\n",
      "1314/1314 [==============================] - 125s 95ms/step - loss: 0.1299 - accuracy: 0.9495\n",
      "Epoch 72/100\n",
      "1314/1314 [==============================] - 125s 95ms/step - loss: 0.1330 - accuracy: 0.9491\n",
      "Epoch 73/100\n",
      "1314/1314 [==============================] - 126s 96ms/step - loss: 0.1323 - accuracy: 0.9492\n",
      "Epoch 74/100\n",
      "1314/1314 [==============================] - 126s 96ms/step - loss: 0.1321 - accuracy: 0.9499\n",
      "Epoch 75/100\n",
      "1314/1314 [==============================] - 127s 96ms/step - loss: 0.1269 - accuracy: 0.9506\n",
      "Epoch 76/100\n",
      "1314/1314 [==============================] - 125s 95ms/step - loss: 0.1296 - accuracy: 0.9506\n",
      "Epoch 77/100\n",
      "1314/1314 [==============================] - 123s 94ms/step - loss: 0.1295 - accuracy: 0.9511\n",
      "Epoch 78/100\n",
      "1314/1314 [==============================] - 123s 94ms/step - loss: 0.1288 - accuracy: 0.9515\n",
      "Epoch 79/100\n",
      "1314/1314 [==============================] - 124s 94ms/step - loss: 0.1301 - accuracy: 0.9500\n",
      "Epoch 80/100\n",
      "1314/1314 [==============================] - 124s 94ms/step - loss: 0.1310 - accuracy: 0.9499\n",
      "Epoch 81/100\n",
      "1314/1314 [==============================] - 124s 94ms/step - loss: 0.1290 - accuracy: 0.9508\n",
      "Epoch 82/100\n",
      "1314/1314 [==============================] - 124s 94ms/step - loss: 0.1300 - accuracy: 0.9510\n",
      "Epoch 83/100\n",
      "1314/1314 [==============================] - 125s 95ms/step - loss: 0.1257 - accuracy: 0.9521\n",
      "Epoch 84/100\n",
      "1314/1314 [==============================] - 124s 94ms/step - loss: 0.1285 - accuracy: 0.9510\n",
      "Epoch 85/100\n",
      "1314/1314 [==============================] - 124s 94ms/step - loss: 0.1262 - accuracy: 0.9525\n",
      "Epoch 86/100\n",
      "1314/1314 [==============================] - 124s 94ms/step - loss: 0.1244 - accuracy: 0.9525\n",
      "Epoch 87/100\n",
      "1314/1314 [==============================] - 124s 95ms/step - loss: 0.1285 - accuracy: 0.9508\n",
      "Epoch 88/100\n",
      "1314/1314 [==============================] - 124s 94ms/step - loss: 0.1281 - accuracy: 0.9516\n",
      "Epoch 89/100\n",
      "1314/1314 [==============================] - 125s 95ms/step - loss: 0.1277 - accuracy: 0.9519\n",
      "Epoch 90/100\n",
      "1314/1314 [==============================] - 125s 95ms/step - loss: 0.1266 - accuracy: 0.9518\n",
      "Epoch 91/100\n",
      "1314/1314 [==============================] - 125s 95ms/step - loss: 0.1249 - accuracy: 0.9517\n",
      "Epoch 92/100\n",
      "1314/1314 [==============================] - 124s 95ms/step - loss: 0.1264 - accuracy: 0.9518\n",
      "Epoch 93/100\n",
      "1314/1314 [==============================] - 124s 94ms/step - loss: 0.1256 - accuracy: 0.9520\n",
      "Epoch 94/100\n",
      "1314/1314 [==============================] - 124s 95ms/step - loss: 0.1238 - accuracy: 0.9533\n",
      "Epoch 95/100\n",
      "1314/1314 [==============================] - 125s 95ms/step - loss: 0.1269 - accuracy: 0.9522\n",
      "Epoch 96/100\n",
      "1314/1314 [==============================] - 126s 96ms/step - loss: 0.1260 - accuracy: 0.9528\n",
      "Epoch 97/100\n",
      "1314/1314 [==============================] - 126s 96ms/step - loss: 0.1260 - accuracy: 0.9530\n",
      "Epoch 98/100\n",
      "1314/1314 [==============================] - 126s 96ms/step - loss: 0.1267 - accuracy: 0.9523\n",
      "Epoch 99/100\n",
      "1314/1314 [==============================] - 125s 95ms/step - loss: 0.1253 - accuracy: 0.9528\n",
      "Epoch 100/100\n",
      "1314/1314 [==============================] - 126s 96ms/step - loss: 0.1241 - accuracy: 0.9538\n"
     ]
    }
   ],
   "source": [
    "# Fit the model to the training data\n",
    "history=model.fit(x_tr, y_tr1, batch_size=64, epochs=100)"
   ]
  },
  {
   "cell_type": "code",
   "execution_count": 19,
   "id": "8c90925b",
   "metadata": {},
   "outputs": [],
   "source": [
    "# _, accuracy = model.evaluate(x_ts, y_ts1, batch_size=64, verbose=0)"
   ]
  },
  {
   "cell_type": "code",
   "execution_count": 20,
   "id": "4affc10a",
   "metadata": {},
   "outputs": [],
   "source": [
    "# accuracy"
   ]
  },
  {
   "cell_type": "code",
   "execution_count": 21,
   "id": "a59f0cb0",
   "metadata": {},
   "outputs": [
    {
     "name": "stdout",
     "output_type": "stream",
     "text": [
      "657/657 [==============================] - 11s 17ms/step\n"
     ]
    }
   ],
   "source": [
    "prediction = model.predict(x_ts)"
   ]
  },
  {
   "cell_type": "code",
   "execution_count": 22,
   "id": "76094272",
   "metadata": {},
   "outputs": [],
   "source": [
    "prediction_NN=np.argmax(prediction, axis=-1)"
   ]
  },
  {
   "cell_type": "code",
   "execution_count": 23,
   "id": "456d02d0",
   "metadata": {},
   "outputs": [
    {
     "data": {
      "text/plain": [
       "array([0, 0, 0, ..., 4, 4, 4], dtype=int64)"
      ]
     },
     "execution_count": 23,
     "metadata": {},
     "output_type": "execute_result"
    }
   ],
   "source": [
    "prediction_NN"
   ]
  },
  {
   "cell_type": "code",
   "execution_count": 24,
   "id": "f8f21795",
   "metadata": {},
   "outputs": [],
   "source": [
    "y_ts1_1=np.argmax(y_ts1, axis=-1)"
   ]
  },
  {
   "cell_type": "code",
   "execution_count": 25,
   "id": "69a72fa4",
   "metadata": {},
   "outputs": [
    {
     "data": {
      "text/plain": [
       "array([0, 0, 0, ..., 4, 4, 4], dtype=int64)"
      ]
     },
     "execution_count": 25,
     "metadata": {},
     "output_type": "execute_result"
    }
   ],
   "source": [
    "y_ts1_1"
   ]
  },
  {
   "cell_type": "code",
   "execution_count": 26,
   "id": "93b307e7",
   "metadata": {},
   "outputs": [
    {
     "name": "stdout",
     "output_type": "stream",
     "text": [
      "Accuracy =  0.963232496194825\n"
     ]
    }
   ],
   "source": [
    "from sklearn import metrics\n",
    "print (\"Accuracy = \", metrics.accuracy_score(y_ts1_1, prediction_NN))"
   ]
  },
  {
   "cell_type": "code",
   "execution_count": 27,
   "id": "533857e6",
   "metadata": {},
   "outputs": [
    {
     "name": "stdout",
     "output_type": "stream",
     "text": [
      "[[11825     7     3    71    20]\n",
      " [  149  1293     0    19   116]\n",
      " [   19     0  1509     0     8]\n",
      " [  178     0     0   973   110]\n",
      " [    9     8     0    56  4651]]\n"
     ]
    }
   ],
   "source": [
    "#Confusion Matrix - verify accuracy of each class\n",
    "from sklearn.metrics import confusion_matrix\n",
    "cm = confusion_matrix(y_ts1_1, prediction_NN)\n",
    "print(cm)"
   ]
  },
  {
   "cell_type": "code",
   "execution_count": 28,
   "id": "36b85e5d",
   "metadata": {},
   "outputs": [
    {
     "name": "stdout",
     "output_type": "stream",
     "text": [
      "              precision    recall  f1-score   support\n",
      "\n",
      "     Class 0      0.971     0.992     0.981     11926\n",
      "     Class 1      0.989     0.820     0.896      1577\n",
      "     Class 2      0.998     0.982     0.990      1536\n",
      "     Class 3      0.870     0.772     0.818      1261\n",
      "     Class 4      0.948     0.985     0.966      4724\n",
      "\n",
      "    accuracy                          0.963     21024\n",
      "   macro avg      0.955     0.910     0.930     21024\n",
      "weighted avg      0.963     0.963     0.962     21024\n",
      "\n"
     ]
    }
   ],
   "source": [
    "from sklearn.metrics import classification_report\n",
    "\n",
    "# print(class_labels)\n",
    "target_names = ['Class 0', 'Class 1', 'Class 2', 'Class 3', 'Class 4']\n",
    "print(classification_report(y_ts1_1, prediction_NN, target_names=target_names,digits=3))"
   ]
  },
  {
   "cell_type": "code",
   "execution_count": 34,
   "id": "e108aeeb",
   "metadata": {},
   "outputs": [],
   "source": [
    "model.save('M2_all_imgs_2lyr.h5')"
   ]
  },
  {
   "cell_type": "code",
   "execution_count": 30,
   "id": "e0996c47",
   "metadata": {},
   "outputs": [],
   "source": [
    "import matplotlib.pyplot as plt"
   ]
  },
  {
   "cell_type": "code",
   "execution_count": 31,
   "id": "bc8ded41",
   "metadata": {},
   "outputs": [],
   "source": [
    "from mlxtend.plotting import plot_confusion_matrix"
   ]
  },
  {
   "cell_type": "code",
   "execution_count": 33,
   "id": "91630769",
   "metadata": {},
   "outputs": [
    {
     "data": {
      "image/png": "[encoded data removed]",
      "text/plain": [
       "<Figure size 640x480 with 2 Axes>"
      ]
     },
     "metadata": {},
     "output_type": "display_data"
    }
   ],
   "source": [
    "class_dict = {0: 'Class 0',\n",
    "              1: 'Class 1',\n",
    "              2: 'Class 2',\n",
    "              3: 'Class 3',\n",
    "              4: 'Class 4'}\n",
    "\n",
    "multiclass = np.array([[11825,     7,     3,    71,    20],\n",
    "                       [149,  1293,     0,    19,   116],\n",
    "                       [19,     0,  1509,     0,     8],\n",
    "                       [178,     0,     0,   973,   110],\n",
    "                       [9,     8,     0,    56,  4651]])\n",
    "\n",
    "fig, ax = plot_confusion_matrix(\n",
    "    conf_mat=multiclass,\n",
    "    class_names=class_dict.values(),show_normed=True,colorbar=True)"
   ]
  },
  {
   "cell_type": "code",
   "execution_count": null,
   "id": "ea41c4e2",
   "metadata": {},
   "outputs": [],
   "source": []
  }
 ],
 "metadata": {
  "kernelspec": {
   "display_name": "Python 3 (ipykernel)",
   "language": "python",
   "name": "python3"
  },
  "language_info": {
   "codemirror_mode": {
    "name": "ipython",
    "version": 3
   },
   "file_extension": ".py",
   "mimetype": "text/x-python",
   "name": "python",
   "nbconvert_exporter": "python",
   "pygments_lexer": "ipython3",
   "version": "3.9.13"
  }
 },
 "nbformat": 4,
 "nbformat_minor": 5
}
