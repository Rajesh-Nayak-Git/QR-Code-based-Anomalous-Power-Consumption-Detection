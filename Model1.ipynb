{
 "cells": [
  {
   "cell_type": "code",
   "execution_count": null,
   "id": "ffdc4599",
   "metadata": {
    "id": "ffdc4599"
   },
   "outputs": [],
   "source": [
    "import numpy as np\n",
    "import matplotlib.pyplot as plt\n",
    "import glob\n",
    "# import cv2\n",
    "from PIL import Image\n",
    "from sklearn.preprocessing import LabelEncoder, OneHotEncoder\n",
    "from tensorflow.keras.models import Model, Sequential\n",
    "from tensorflow.keras.layers import Dense, Flatten, Conv2D, MaxPooling2D\n",
    "# from tensorflow.keras.layers.normalization import BatchNormalization\n",
    "import os\n",
    "import seaborn as sns\n",
    "from keras.applications import DenseNet121\n",
    "from tensorflow.python.keras.layers import Dense, Flatten, GlobalAveragePooling2D"
   ]
  },
  {
   "cell_type": "code",
   "execution_count": null,
   "id": "dhncbcUkVE0y",
   "metadata": {
    "colab": {
     "base_uri": "https://localhost:8080/"
    },
    "id": "dhncbcUkVE0y",
    "outputId": "13d96895-34ba-4396-ab4e-b6abc5865a2a"
   },
   "outputs": [],
   "source": [
    "# from google.colab import drive\n",
    "# drive.mount('/content/drive')"
   ]
  },
  {
   "cell_type": "code",
   "execution_count": null,
   "id": "d2ee5baf",
   "metadata": {
    "id": "d2ee5baf"
   },
   "outputs": [],
   "source": [
    "# train_data_path = '/content/drive/My Drive/Colab Notebooks/QR_Code_Imgs/Training'\n",
    "# test_data_path = '/content/drive/My Drive/Colab Notebooks/QR_Code_Imgs/Testing'"
   ]
  },
  {
   "cell_type": "code",
   "execution_count": null,
   "id": "0d1fdef5",
   "metadata": {},
   "outputs": [],
   "source": [
    "train_data_path = 'Training'\n",
    "test_data_path = 'Testing'"
   ]
  },
  {
   "cell_type": "code",
   "execution_count": null,
   "id": "ebdf197b",
   "metadata": {
    "id": "ebdf197b"
   },
   "outputs": [],
   "source": [
    "x_train = []\n",
    "y_train = []\n",
    "x_test = []\n",
    "y_test = []"
   ]
  },
  {
   "cell_type": "code",
   "execution_count": null,
   "id": "44f1abc7",
   "metadata": {
    "id": "44f1abc7"
   },
   "outputs": [],
   "source": [
    "# Function to process images in a folder\n",
    "def process_images(folder_path, images_list, labels_list):\n",
    "    for class_folder in os.listdir(folder_path):\n",
    "        class_path = os.path.join(folder_path, class_folder)\n",
    "        if not os.path.isdir(class_path):\n",
    "            continue\n",
    "\n",
    "        for image_file in os.listdir(class_path):\n",
    "            image_path = os.path.join(class_path, image_file)\n",
    "            image = Image.open(image_path)\n",
    "\n",
    "            # Perform any necessary preprocessing steps here\n",
    "            # For example, resize, convert to grayscale, normalize, etc.\n",
    "#             image = image.resize(input_shape)\n",
    "\n",
    "            # Convert the image to a NumPy array\n",
    "            image_array = np.array(image)\n",
    "\n",
    "            # Normalize the image data (if needed)\n",
    "            image_array = image_array / 255.0\n",
    "\n",
    "            # Append the processed image and its label to the lists\n",
    "            images_list.append(image_array)\n",
    "            labels_list.append(class_folder)"
   ]
  },
  {
   "cell_type": "code",
   "execution_count": null,
   "id": "dbb2965b",
   "metadata": {
    "id": "dbb2965b"
   },
   "outputs": [],
   "source": [
    "# Process training images\n",
    "process_images(train_data_path, x_train, y_train)\n",
    "\n",
    "# Process testing images\n",
    "process_images(test_data_path, x_test, y_test)"
   ]
  },
  {
   "cell_type": "code",
   "execution_count": null,
   "id": "7a6a8002",
   "metadata": {
    "id": "7a6a8002"
   },
   "outputs": [],
   "source": [
    "# Convert the lists to NumPy arrays\n",
    "x_train = np.array(x_train)\n",
    "x_test = np.array(x_test)"
   ]
  },
  {
   "cell_type": "code",
   "execution_count": null,
   "id": "l1GOi6w8XrId",
   "metadata": {
    "id": "l1GOi6w8XrId"
   },
   "outputs": [],
   "source": [
    "# Convert the lists to NumPy arrays\n",
    "y_train = np.array(y_train)\n",
    "y_test = np.array(y_test)"
   ]
  },
  {
   "cell_type": "code",
   "execution_count": null,
   "id": "BJ5YNlPjYGKX",
   "metadata": {
    "colab": {
     "base_uri": "https://localhost:8080/"
    },
    "id": "BJ5YNlPjYGKX",
    "outputId": "2e3ebcdd-6c29-46e6-cc70-134ebf0e3ecf"
   },
   "outputs": [],
   "source": [
    "x_train.shape,y_train.shape,x_test.shape,y_test.shape"
   ]
  },
  {
   "cell_type": "code",
   "execution_count": null,
   "id": "766d6034",
   "metadata": {
    "colab": {
     "base_uri": "https://localhost:8080/"
    },
    "id": "766d6034",
    "outputId": "e985288f-41cf-4272-b6b5-5469c034dec1"
   },
   "outputs": [],
   "source": [
    "# Convert class labels to categorical format using one-hot encoding\n",
    "label_encoder = LabelEncoder()\n",
    "y_train_encoded = label_encoder.fit_transform(y_train)\n",
    "y_test_encoded = label_encoder.transform(y_test)\n",
    "\n",
    "onehot_encoder = OneHotEncoder(sparse=False)\n",
    "y_train1 = onehot_encoder.fit_transform(y_train_encoded.reshape(-1, 1))\n",
    "y_test1 = onehot_encoder.transform(y_test_encoded.reshape(-1, 1))"
   ]
  },
  {
   "cell_type": "code",
   "execution_count": null,
   "id": "2c8d69b7",
   "metadata": {
    "colab": {
     "base_uri": "https://localhost:8080/"
    },
    "id": "2c8d69b7",
    "outputId": "fe59df65-82af-4fa8-b943-afc0333979c2"
   },
   "outputs": [],
   "source": [
    "x_train.shape, x_test.shape"
   ]
  },
  {
   "cell_type": "code",
   "execution_count": null,
   "id": "zG4Q-AlrXbxy",
   "metadata": {
    "colab": {
     "base_uri": "https://localhost:8080/"
    },
    "id": "zG4Q-AlrXbxy",
    "outputId": "5f9eebac-6dd0-4278-8b1d-6e9645a901c7"
   },
   "outputs": [],
   "source": [
    "y_train1.shape, y_test1.shape"
   ]
  },
  {
   "cell_type": "code",
   "execution_count": null,
   "id": "GEUAPpIaYB_c",
   "metadata": {
    "id": "GEUAPpIaYB_c"
   },
   "outputs": [],
   "source": [
    "# Reshape the data by adding an extra dimension\n",
    "x_train1 = np.expand_dims(x_train, axis=-1)\n",
    "x_test1 = np.expand_dims(x_test, axis=-1)"
   ]
  },
  {
   "cell_type": "code",
   "execution_count": null,
   "id": "X8c8xVoHZu1J",
   "metadata": {
    "colab": {
     "base_uri": "https://localhost:8080/"
    },
    "id": "X8c8xVoHZu1J",
    "outputId": "c713ea0b-3ada-4e57-8f2c-2736c7858d5a"
   },
   "outputs": [],
   "source": [
    "x_train1.shape, x_test1.shape, y_train1.shape, y_test1.shape"
   ]
  },
  {
   "cell_type": "code",
   "execution_count": null,
   "id": "8HsytOlzYCCq",
   "metadata": {
    "id": "8HsytOlzYCCq"
   },
   "outputs": [],
   "source": [
    "from tensorflow.keras.models import Sequential\n",
    "from tensorflow.keras.layers import Conv2D, MaxPooling2D, Flatten, Dense, Dropout"
   ]
  },
  {
   "cell_type": "code",
   "execution_count": null,
   "id": "o4T5tFUoYCIw",
   "metadata": {
    "colab": {
     "base_uri": "https://localhost:8080/"
    },
    "id": "o4T5tFUoYCIw",
    "outputId": "9a8849ca-43f5-4b83-a4ed-a5dd4e90545d"
   },
   "outputs": [],
   "source": [
    "# Define the shape of the input data\n",
    "input_shape = (224, 224, 1)\n",
    "\n",
    "# Define the number of classes\n",
    "num_classes = 5\n",
    "\n",
    "# Define the 2D CNN model architecture\n",
    "model = Sequential()\n",
    "model.add(Conv2D(32, kernel_size=(5, 5), activation='relu', padding='same', input_shape=input_shape))\n",
    "model.add(MaxPooling2D(pool_size=(2, 2)))\n",
    "model.add(Dropout(0.25))\n",
    "model.add(Flatten())\n",
    "# Fully connected\n",
    "model.add(Dense(128, activation='relu'))\n",
    "model.add(Dropout(0.5))\n",
    "# Output layer\n",
    "model.add(Dense(num_classes, activation='softmax'))\n",
    "\n",
    "model.summary()"
   ]
  },
  {
   "cell_type": "code",
   "execution_count": null,
   "id": "HR-hEcsmYCLi",
   "metadata": {
    "id": "HR-hEcsmYCLi"
   },
   "outputs": [],
   "source": [
    "# Compile the model\n",
    "model.compile(loss='categorical_crossentropy', optimizer='adam', metrics=['accuracy'])"
   ]
  },
  {
   "cell_type": "code",
   "execution_count": null,
   "id": "EK06GGhYYCPS",
   "metadata": {
    "colab": {
     "base_uri": "https://localhost:8080/"
    },
    "id": "EK06GGhYYCPS",
    "outputId": "b1e17e70-72ab-4be7-cf23-dbe81e1c0bd4"
   },
   "outputs": [],
   "source": [
    "# Fit the model to the training data\n",
    "history=model.fit(x_train1, y_train1, batch_size=64, epochs=100)"
   ]
  },
  {
   "cell_type": "code",
   "execution_count": null,
   "id": "HdFuyCyzYCRK",
   "metadata": {
    "id": "HdFuyCyzYCRK"
   },
   "outputs": [],
   "source": [
    "_, accuracy = model.evaluate(x_test, y_test1, batch_size=64, verbose=0)"
   ]
  },
  {
   "cell_type": "code",
   "execution_count": null,
   "id": "AtbNVj5EYCT6",
   "metadata": {
    "id": "AtbNVj5EYCT6"
   },
   "outputs": [],
   "source": [
    "prediction = model.predict(x_test1)"
   ]
  },
  {
   "cell_type": "code",
   "execution_count": null,
   "id": "DzhUyvbRYCWu",
   "metadata": {
    "id": "DzhUyvbRYCWu"
   },
   "outputs": [],
   "source": [
    "prediction_NN=np.argmax(prediction, axis=-1)"
   ]
  },
  {
   "cell_type": "code",
   "execution_count": null,
   "id": "K6MfVLtLYCZb",
   "metadata": {
    "id": "K6MfVLtLYCZb"
   },
   "outputs": [],
   "source": [
    "prediction_NN"
   ]
  },
  {
   "cell_type": "code",
   "execution_count": null,
   "id": "Zn0AQjMnYCfU",
   "metadata": {
    "id": "Zn0AQjMnYCfU"
   },
   "outputs": [],
   "source": [
    "y_test1_1=np.argmax(y_test1, axis=-1)"
   ]
  },
  {
   "cell_type": "code",
   "execution_count": null,
   "id": "djoQYe-0cCpU",
   "metadata": {
    "id": "djoQYe-0cCpU"
   },
   "outputs": [],
   "source": [
    "y_test1_1"
   ]
  },
  {
   "cell_type": "code",
   "execution_count": null,
   "id": "JTWQSe78cCrg",
   "metadata": {
    "id": "JTWQSe78cCrg"
   },
   "outputs": [],
   "source": [
    "#Confusion Matrix - verify accuracy of each class\n",
    "from sklearn.metrics import confusion_matrix\n",
    "cm = confusion_matrix(y_test1_1, prediction_NN)\n",
    "print(cm)"
   ]
  },
  {
   "cell_type": "code",
   "execution_count": null,
   "id": "PkaQvK09cCut",
   "metadata": {
    "id": "PkaQvK09cCut"
   },
   "outputs": [],
   "source": [
    "from sklearn.metrics import classification_report\n",
    "\n",
    "# print(class_labels)\n",
    "target_names = ['Class 0', 'Class 1', 'Class 2', 'Class 3', 'Class 4']\n",
    "print(classification_report(y_test1_1, prediction_NN, target_names=target_names,digits=3))"
   ]
  },
  {
   "cell_type": "code",
   "execution_count": null,
   "id": "74EHxLtHcCw7",
   "metadata": {
    "id": "74EHxLtHcCw7"
   },
   "outputs": [],
   "source": [
    "# import matplotlib.pyplot as plt"
   ]
  },
  {
   "cell_type": "code",
   "execution_count": null,
   "id": "TXBqRobvcC1W",
   "metadata": {
    "id": "TXBqRobvcC1W"
   },
   "outputs": [],
   "source": [
    "# from mlxtend.plotting import plot_confusion_matrix"
   ]
  },
  {
   "cell_type": "code",
   "execution_count": null,
   "id": "RZxY1ZDacC2d",
   "metadata": {
    "id": "RZxY1ZDacC2d"
   },
   "outputs": [],
   "source": [
    "# class_dict = {0: 'Class 0',\n",
    "#               1: 'Class 1',\n",
    "#               2: 'Class 2',\n",
    "#               3: 'Class 3',\n",
    "#               4: 'Class 4'}\n",
    "\n",
    "# multiclass = np.array([[],\n",
    "#                        [],\n",
    "#                        [],\n",
    "#                        [],\n",
    "#                        []])\n",
    "\n",
    "# fig, ax = plot_confusion_matrix(\n",
    "#     conf_mat=multiclass,\n",
    "#     class_names=class_dict.values(),show_normed=True,colorbar=True)"
   ]
  },
  {
   "cell_type": "code",
   "execution_count": null,
   "id": "4X7aG8wqcC5B",
   "metadata": {
    "id": "4X7aG8wqcC5B"
   },
   "outputs": [],
   "source": []
  }
 ],
 "metadata": {
  "accelerator": "GPU",
  "colab": {
   "gpuType": "T4",
   "provenance": []
  },
  "kernelspec": {
   "display_name": "Python 3 (ipykernel)",
   "language": "python",
   "name": "python3"
  },
  "language_info": {
   "codemirror_mode": {
    "name": "ipython",
    "version": 3
   },
   "file_extension": ".py",
   "mimetype": "text/x-python",
   "name": "python",
   "nbconvert_exporter": "python",
   "pygments_lexer": "ipython3",
   "version": "3.9.13"
  }
 },
 "nbformat": 4,
 "nbformat_minor": 5
}
