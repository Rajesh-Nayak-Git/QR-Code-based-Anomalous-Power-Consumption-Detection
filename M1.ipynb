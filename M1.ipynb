{
 "cells": [
  {
   "cell_type": "code",
   "execution_count": 1,
   "id": "ffdc4599",
   "metadata": {},
   "outputs": [],
   "source": [
    "import numpy as np \n",
    "import matplotlib.pyplot as plt\n",
    "import glob\n",
    "# import cv2\n",
    "from PIL import Image\n",
    "from sklearn.preprocessing import LabelEncoder, OneHotEncoder\n",
    "from tensorflow.keras.models import Model, Sequential\n",
    "from tensorflow.keras.layers import Dense, Flatten, Conv2D, MaxPooling2D\n",
    "# from tensorflow.keras.layers.normalization import BatchNormalization\n",
    "import os\n",
    "import seaborn as sns\n",
    "# from keras.applications import DenseNet121\n",
    "from tensorflow.python.keras.layers import Dense, Flatten, GlobalAveragePooling2D"
   ]
  },
  {
   "cell_type": "code",
   "execution_count": 2,
   "id": "d2ee5baf",
   "metadata": {},
   "outputs": [],
   "source": [
    "train_data_path = 'Training'\n",
    "test_data_path = 'Testing'"
   ]
  },
  {
   "cell_type": "code",
   "execution_count": 3,
   "id": "ebdf197b",
   "metadata": {},
   "outputs": [],
   "source": [
    "x_train = []\n",
    "y_train = []\n",
    "x_test = []\n",
    "y_test = []"
   ]
  },
  {
   "cell_type": "code",
   "execution_count": 4,
   "id": "5a03bae2",
   "metadata": {},
   "outputs": [],
   "source": [
    "# Function to process images in a folder\n",
    "def process_images(folder_path, images_list, labels_list):\n",
    "    for class_folder in os.listdir(folder_path):\n",
    "        class_path = os.path.join(folder_path, class_folder)\n",
    "        if not os.path.isdir(class_path):\n",
    "            continue\n",
    "        \n",
    "        for image_file in os.listdir(class_path):\n",
    "            image_path = os.path.join(class_path, image_file)\n",
    "            image = Image.open(image_path)\n",
    "            \n",
    "            # Convert the image to grayscale\n",
    "            image = image.convert('L')\n",
    "            \n",
    "            # Resize the image to 64x64\n",
    "            image = image.resize((64, 64))\n",
    "            \n",
    "            # Convert the image to a NumPy array\n",
    "            image_array = np.array(image)\n",
    "            \n",
    "            # Normalize the image data (if needed)\n",
    "            image_array = image_array / 255.0\n",
    "            \n",
    "            # Append the processed image and its label to the lists\n",
    "            images_list.append(image_array)\n",
    "            labels_list.append(class_folder)\n"
   ]
  },
  {
   "cell_type": "code",
   "execution_count": 5,
   "id": "dbb2965b",
   "metadata": {},
   "outputs": [],
   "source": [
    "# Process training images\n",
    "process_images(train_data_path, x_train, y_train)\n",
    "\n",
    "# Process testing images\n",
    "process_images(test_data_path, x_test, y_test)"
   ]
  },
  {
   "cell_type": "code",
   "execution_count": 6,
   "id": "030751c3",
   "metadata": {},
   "outputs": [],
   "source": [
    "x_tr=[]\n",
    "x_ts=[]\n",
    "y_tr=[]\n",
    "y_ts=[]"
   ]
  },
  {
   "cell_type": "code",
   "execution_count": 7,
   "id": "84db6e6b",
   "metadata": {},
   "outputs": [],
   "source": [
    "x_tr = np.array(x_train)\n",
    "y_tr = np.array(y_train)"
   ]
  },
  {
   "cell_type": "code",
   "execution_count": 8,
   "id": "51fd9be7",
   "metadata": {},
   "outputs": [],
   "source": [
    "x_ts = np.array(x_test)\n",
    "y_ts = np.array(y_test)"
   ]
  },
  {
   "cell_type": "code",
   "execution_count": null,
   "id": "7a6a8002",
   "metadata": {},
   "outputs": [],
   "source": [
    "# # Convert the lists to NumPy arrays\n",
    "# x_train = np.array(x_train)\n",
    "# x_test = np.array(x_test)"
   ]
  },
  {
   "cell_type": "code",
   "execution_count": 9,
   "id": "ae2d2b38",
   "metadata": {},
   "outputs": [
    {
     "data": {
      "text/plain": [
       "((84096, 64, 64), (84096,), (21024, 64, 64), (21024,))"
      ]
     },
     "execution_count": 9,
     "metadata": {},
     "output_type": "execute_result"
    }
   ],
   "source": [
    "x_tr.shape,y_tr.shape,x_ts.shape,y_ts.shape"
   ]
  },
  {
   "cell_type": "code",
   "execution_count": 10,
   "id": "766d6034",
   "metadata": {},
   "outputs": [],
   "source": [
    "# Convert class labels to categorical format using one-hot encoding\n",
    "label_encoder = LabelEncoder()\n",
    "y_train_encoded = label_encoder.fit_transform(y_tr)\n",
    "y_test_encoded = label_encoder.transform(y_ts)\n",
    "\n",
    "onehot_encoder = OneHotEncoder(sparse=False)\n",
    "y_tr1 = onehot_encoder.fit_transform(y_train_encoded.reshape(-1, 1))\n",
    "y_ts1 = onehot_encoder.transform(y_test_encoded.reshape(-1, 1))"
   ]
  },
  {
   "cell_type": "code",
   "execution_count": 11,
   "id": "2c8d69b7",
   "metadata": {},
   "outputs": [
    {
     "data": {
      "text/plain": [
       "((84096, 64, 64), (84096, 5), (21024, 64, 64), (21024, 5))"
      ]
     },
     "execution_count": 11,
     "metadata": {},
     "output_type": "execute_result"
    }
   ],
   "source": [
    "x_tr.shape,y_tr1.shape,x_ts.shape,y_ts1.shape"
   ]
  },
  {
   "cell_type": "code",
   "execution_count": 12,
   "id": "50825bae",
   "metadata": {},
   "outputs": [],
   "source": [
    "# Reshape the data by adding an extra dimension\n",
    "x_tr = np.expand_dims(x_tr, axis=-1)\n",
    "x_ts = np.expand_dims(x_ts, axis=-1)"
   ]
  },
  {
   "cell_type": "code",
   "execution_count": 13,
   "id": "ef16783d",
   "metadata": {},
   "outputs": [
    {
     "data": {
      "text/plain": [
       "((84096, 64, 64, 1), (84096, 5), (21024, 64, 64, 1), (21024, 5))"
      ]
     },
     "execution_count": 13,
     "metadata": {},
     "output_type": "execute_result"
    }
   ],
   "source": [
    "x_tr.shape,y_tr1.shape,x_ts.shape,y_ts1.shape"
   ]
  },
  {
   "cell_type": "code",
   "execution_count": 14,
   "id": "5d846757",
   "metadata": {},
   "outputs": [],
   "source": [
    "from tensorflow.keras.models import Sequential\n",
    "from tensorflow.keras.layers import Conv2D, MaxPooling2D, Flatten, Dense, Dropout"
   ]
  },
  {
   "cell_type": "code",
   "execution_count": 15,
   "id": "c84ce67a",
   "metadata": {},
   "outputs": [
    {
     "name": "stdout",
     "output_type": "stream",
     "text": [
      "Model: \"sequential\"\n",
      "_________________________________________________________________\n",
      " Layer (type)                Output Shape              Param #   \n",
      "=================================================================\n",
      " conv2d (Conv2D)             (None, 64, 64, 32)        1184      \n",
      "                                                                 \n",
      " max_pooling2d (MaxPooling2D  (None, 21, 21, 32)       0         \n",
      " )                                                               \n",
      "                                                                 \n",
      " dropout (Dropout)           (None, 21, 21, 32)        0         \n",
      "                                                                 \n",
      " flatten (Flatten)           (None, 14112)             0         \n",
      "                                                                 \n",
      " dense (Dense)               (None, 128)               1806464   \n",
      "                                                                 \n",
      " dropout_1 (Dropout)         (None, 128)               0         \n",
      "                                                                 \n",
      " dense_1 (Dense)             (None, 5)                 645       \n",
      "                                                                 \n",
      "=================================================================\n",
      "Total params: 1,808,293\n",
      "Trainable params: 1,808,293\n",
      "Non-trainable params: 0\n",
      "_________________________________________________________________\n"
     ]
    }
   ],
   "source": [
    "# Define the shape of the input data\n",
    "input_shape = (64, 64, 1)\n",
    "\n",
    "# Define the number of classes\n",
    "num_classes = 5\n",
    "\n",
    "# Define the 2D CNN model architecture\n",
    "model = Sequential()\n",
    "model.add(Conv2D(32, kernel_size=(6, 6), activation='relu', padding='same', input_shape=input_shape))\n",
    "model.add(MaxPooling2D(pool_size=(3, 3)))\n",
    "model.add(Dropout(0.25))\n",
    "# model.add(Conv2D(32, kernel_size=(4, 4), activation='relu', padding='same'))\n",
    "# model.add(MaxPooling2D(pool_size=(2, 2)))\n",
    "# model.add(Dropout(0.25))\n",
    "model.add(Flatten())\n",
    "# Fully connected\n",
    "model.add(Dense(128, activation='relu'))\n",
    "model.add(Dropout(0.5))\n",
    "# Output layer\n",
    "model.add(Dense(num_classes, activation='softmax'))\n",
    "\n",
    "model.summary()"
   ]
  },
  {
   "cell_type": "code",
   "execution_count": 16,
   "id": "1f879cb5",
   "metadata": {},
   "outputs": [],
   "source": [
    "# Compile the model\n",
    "model.compile(loss='categorical_crossentropy', optimizer='adam', metrics=['accuracy'])"
   ]
  },
  {
   "cell_type": "code",
   "execution_count": 17,
   "id": "9e084847",
   "metadata": {
    "scrolled": true
   },
   "outputs": [
    {
     "name": "stdout",
     "output_type": "stream",
     "text": [
      "Epoch 1/100\n",
      "1314/1314 [==============================] - 100s 76ms/step - loss: 0.9338 - accuracy: 0.6468\n",
      "Epoch 2/100\n",
      "1314/1314 [==============================] - 103s 78ms/step - loss: 0.6208 - accuracy: 0.7477\n",
      "Epoch 3/100\n",
      "1314/1314 [==============================] - 105s 80ms/step - loss: 0.5326 - accuracy: 0.7778\n",
      "Epoch 4/100\n",
      "1314/1314 [==============================] - 101s 77ms/step - loss: 0.4887 - accuracy: 0.7905\n",
      "Epoch 5/100\n",
      "1314/1314 [==============================] - 109s 83ms/step - loss: 0.4596 - accuracy: 0.8016\n",
      "Epoch 6/100\n",
      "1314/1314 [==============================] - 100s 76ms/step - loss: 0.4384 - accuracy: 0.8084\n",
      "Epoch 7/100\n",
      "1314/1314 [==============================] - 101s 77ms/step - loss: 0.4199 - accuracy: 0.8181\n",
      "Epoch 8/100\n",
      "1314/1314 [==============================] - 101s 77ms/step - loss: 0.4067 - accuracy: 0.8234\n",
      "Epoch 9/100\n",
      "1314/1314 [==============================] - 100s 76ms/step - loss: 0.3903 - accuracy: 0.8305\n",
      "Epoch 10/100\n",
      "1314/1314 [==============================] - 100s 76ms/step - loss: 0.3819 - accuracy: 0.8340\n",
      "Epoch 11/100\n",
      "1314/1314 [==============================] - 100s 76ms/step - loss: 0.3719 - accuracy: 0.8381\n",
      "Epoch 12/100\n",
      "1314/1314 [==============================] - 100s 76ms/step - loss: 0.3659 - accuracy: 0.8427\n",
      "Epoch 13/100\n",
      "1314/1314 [==============================] - 100s 76ms/step - loss: 0.3570 - accuracy: 0.8464\n",
      "Epoch 14/100\n",
      "1314/1314 [==============================] - 102s 78ms/step - loss: 0.3508 - accuracy: 0.8486\n",
      "Epoch 15/100\n",
      "1314/1314 [==============================] - 101s 76ms/step - loss: 0.3449 - accuracy: 0.8506\n",
      "Epoch 16/100\n",
      "1314/1314 [==============================] - 100s 76ms/step - loss: 0.3408 - accuracy: 0.8518\n",
      "Epoch 17/100\n",
      "1314/1314 [==============================] - 104s 80ms/step - loss: 0.3324 - accuracy: 0.8581\n",
      "Epoch 18/100\n",
      "1314/1314 [==============================] - 102s 77ms/step - loss: 0.3297 - accuracy: 0.8577\n",
      "Epoch 19/100\n",
      "1314/1314 [==============================] - 101s 77ms/step - loss: 0.3249 - accuracy: 0.8584\n",
      "Epoch 20/100\n",
      "1314/1314 [==============================] - 103s 79ms/step - loss: 0.3215 - accuracy: 0.8615\n",
      "Epoch 21/100\n",
      "1314/1314 [==============================] - 100s 76ms/step - loss: 0.3195 - accuracy: 0.8631\n",
      "Epoch 22/100\n",
      "1314/1314 [==============================] - 100s 76ms/step - loss: 0.3158 - accuracy: 0.8625\n",
      "Epoch 23/100\n",
      "1314/1314 [==============================] - 102s 78ms/step - loss: 0.3153 - accuracy: 0.8650\n",
      "Epoch 24/100\n",
      "1314/1314 [==============================] - 106s 81ms/step - loss: 0.3112 - accuracy: 0.8679\n",
      "Epoch 25/100\n",
      "1314/1314 [==============================] - 102s 78ms/step - loss: 0.3092 - accuracy: 0.8658\n",
      "Epoch 26/100\n",
      "1314/1314 [==============================] - 101s 77ms/step - loss: 0.3020 - accuracy: 0.8690\n",
      "Epoch 27/100\n",
      "1314/1314 [==============================] - 101s 77ms/step - loss: 0.3002 - accuracy: 0.8708\n",
      "Epoch 28/100\n",
      "1314/1314 [==============================] - 103s 78ms/step - loss: 0.2983 - accuracy: 0.8717\n",
      "Epoch 29/100\n",
      "1314/1314 [==============================] - 101s 77ms/step - loss: 0.2968 - accuracy: 0.8727\n",
      "Epoch 30/100\n",
      "1314/1314 [==============================] - 100s 76ms/step - loss: 0.2948 - accuracy: 0.8735\n",
      "Epoch 31/100\n",
      "1314/1314 [==============================] - 101s 77ms/step - loss: 0.2929 - accuracy: 0.8737\n",
      "Epoch 32/100\n",
      "1314/1314 [==============================] - 101s 77ms/step - loss: 0.2910 - accuracy: 0.8745\n",
      "Epoch 33/100\n",
      "1314/1314 [==============================] - 101s 77ms/step - loss: 0.2864 - accuracy: 0.8782\n",
      "Epoch 34/100\n",
      "1314/1314 [==============================] - 102s 78ms/step - loss: 0.2862 - accuracy: 0.8766\n",
      "Epoch 35/100\n",
      "1314/1314 [==============================] - 103s 78ms/step - loss: 0.2821 - accuracy: 0.8779\n",
      "Epoch 36/100\n",
      "1314/1314 [==============================] - 100s 76ms/step - loss: 0.2859 - accuracy: 0.8781\n",
      "Epoch 37/100\n",
      "1314/1314 [==============================] - 102s 77ms/step - loss: 0.2831 - accuracy: 0.8776\n",
      "Epoch 38/100\n",
      "1314/1314 [==============================] - 101s 77ms/step - loss: 0.2791 - accuracy: 0.8800\n",
      "Epoch 39/100\n",
      "1314/1314 [==============================] - 101s 77ms/step - loss: 0.2799 - accuracy: 0.8789\n",
      "Epoch 40/100\n",
      "1314/1314 [==============================] - 118s 90ms/step - loss: 0.2788 - accuracy: 0.8792\n",
      "Epoch 41/100\n",
      "1314/1314 [==============================] - 120s 92ms/step - loss: 0.2781 - accuracy: 0.8799\n",
      "Epoch 42/100\n",
      "1314/1314 [==============================] - 120s 91ms/step - loss: 0.2767 - accuracy: 0.8811\n",
      "Epoch 43/100\n",
      "1314/1314 [==============================] - 118s 89ms/step - loss: 0.2711 - accuracy: 0.8833\n",
      "Epoch 44/100\n",
      "1314/1314 [==============================] - 122s 93ms/step - loss: 0.2716 - accuracy: 0.8822\n",
      "Epoch 45/100\n",
      "1314/1314 [==============================] - 122s 93ms/step - loss: 0.2687 - accuracy: 0.8846\n",
      "Epoch 46/100\n",
      "1314/1314 [==============================] - 121s 92ms/step - loss: 0.2719 - accuracy: 0.8838\n",
      "Epoch 47/100\n",
      "1314/1314 [==============================] - 121s 92ms/step - loss: 0.2694 - accuracy: 0.8836\n",
      "Epoch 48/100\n",
      "1314/1314 [==============================] - 113s 86ms/step - loss: 0.2695 - accuracy: 0.8855\n",
      "Epoch 49/100\n",
      "1314/1314 [==============================] - 117s 89ms/step - loss: 0.2659 - accuracy: 0.8864\n",
      "Epoch 50/100\n",
      "1314/1314 [==============================] - 114s 87ms/step - loss: 0.2671 - accuracy: 0.8855\n",
      "Epoch 51/100\n",
      "1314/1314 [==============================] - 115s 87ms/step - loss: 0.2675 - accuracy: 0.8855\n",
      "Epoch 52/100\n",
      "1314/1314 [==============================] - 118s 90ms/step - loss: 0.2620 - accuracy: 0.8881\n",
      "Epoch 53/100\n",
      "1314/1314 [==============================] - 112s 85ms/step - loss: 0.2601 - accuracy: 0.8878\n",
      "Epoch 54/100\n",
      "1314/1314 [==============================] - 118s 90ms/step - loss: 0.2628 - accuracy: 0.8879\n",
      "Epoch 55/100\n",
      "1314/1314 [==============================] - 115s 88ms/step - loss: 0.2603 - accuracy: 0.8893\n",
      "Epoch 56/100\n",
      "1314/1314 [==============================] - 115s 88ms/step - loss: 0.2585 - accuracy: 0.8908\n",
      "Epoch 57/100\n",
      "1314/1314 [==============================] - 108s 82ms/step - loss: 0.2572 - accuracy: 0.8901\n",
      "Epoch 58/100\n",
      "1314/1314 [==============================] - 107s 81ms/step - loss: 0.2581 - accuracy: 0.8892\n",
      "Epoch 59/100\n",
      "1314/1314 [==============================] - 106s 81ms/step - loss: 0.2569 - accuracy: 0.8895\n",
      "Epoch 60/100\n",
      "1314/1314 [==============================] - 106s 80ms/step - loss: 0.2583 - accuracy: 0.8893\n",
      "Epoch 61/100\n",
      "1314/1314 [==============================] - 110s 84ms/step - loss: 0.2542 - accuracy: 0.8921\n",
      "Epoch 62/100\n",
      "1314/1314 [==============================] - 115s 87ms/step - loss: 0.2554 - accuracy: 0.8913\n",
      "Epoch 63/100\n",
      "1314/1314 [==============================] - 106s 80ms/step - loss: 0.2528 - accuracy: 0.8923\n",
      "Epoch 64/100\n",
      "1314/1314 [==============================] - 100s 76ms/step - loss: 0.2538 - accuracy: 0.8916\n",
      "Epoch 65/100\n",
      "1314/1314 [==============================] - 98s 74ms/step - loss: 0.2527 - accuracy: 0.8929\n",
      "Epoch 66/100\n",
      "1314/1314 [==============================] - 102s 77ms/step - loss: 0.2528 - accuracy: 0.8918\n",
      "Epoch 67/100\n",
      "1314/1314 [==============================] - 92s 70ms/step - loss: 0.2525 - accuracy: 0.8931\n",
      "Epoch 68/100\n",
      "1314/1314 [==============================] - 97s 74ms/step - loss: 0.2490 - accuracy: 0.8939\n",
      "Epoch 69/100\n",
      "1314/1314 [==============================] - 97s 74ms/step - loss: 0.2483 - accuracy: 0.8946\n",
      "Epoch 70/100\n",
      "1314/1314 [==============================] - 97s 74ms/step - loss: 0.2476 - accuracy: 0.8936\n",
      "Epoch 71/100\n",
      "1314/1314 [==============================] - 97s 74ms/step - loss: 0.2465 - accuracy: 0.8952\n",
      "Epoch 72/100\n",
      "1314/1314 [==============================] - 97s 74ms/step - loss: 0.2485 - accuracy: 0.8948\n",
      "Epoch 73/100\n",
      "1314/1314 [==============================] - 97s 74ms/step - loss: 0.2487 - accuracy: 0.8948\n",
      "Epoch 74/100\n",
      "1314/1314 [==============================] - 98s 74ms/step - loss: 0.2444 - accuracy: 0.8958\n",
      "Epoch 75/100\n",
      "1314/1314 [==============================] - 102s 77ms/step - loss: 0.2395 - accuracy: 0.8989\n",
      "Epoch 76/100\n",
      "1314/1314 [==============================] - 101s 77ms/step - loss: 0.2429 - accuracy: 0.8962\n",
      "Epoch 77/100\n",
      "1314/1314 [==============================] - 100s 76ms/step - loss: 0.2423 - accuracy: 0.8981\n",
      "Epoch 78/100\n",
      "1314/1314 [==============================] - 100s 76ms/step - loss: 0.2427 - accuracy: 0.8974\n",
      "Epoch 79/100\n",
      "1314/1314 [==============================] - 99s 76ms/step - loss: 0.2406 - accuracy: 0.8973\n",
      "Epoch 80/100\n",
      "1314/1314 [==============================] - 100s 76ms/step - loss: 0.2412 - accuracy: 0.8981\n",
      "Epoch 81/100\n",
      "1314/1314 [==============================] - 99s 76ms/step - loss: 0.2412 - accuracy: 0.8984\n",
      "Epoch 82/100\n",
      "1314/1314 [==============================] - 99s 76ms/step - loss: 0.2354 - accuracy: 0.9019\n",
      "Epoch 83/100\n",
      "1314/1314 [==============================] - 100s 76ms/step - loss: 0.2370 - accuracy: 0.9002\n",
      "Epoch 84/100\n",
      "1314/1314 [==============================] - 100s 76ms/step - loss: 0.2339 - accuracy: 0.9016\n",
      "Epoch 85/100\n",
      "1314/1314 [==============================] - 100s 76ms/step - loss: 0.2360 - accuracy: 0.9005\n",
      "Epoch 86/100\n",
      "1314/1314 [==============================] - 102s 78ms/step - loss: 0.2349 - accuracy: 0.9010\n",
      "Epoch 87/100\n",
      "1314/1314 [==============================] - 100s 76ms/step - loss: 0.2358 - accuracy: 0.8998\n",
      "Epoch 88/100\n",
      "1314/1314 [==============================] - 100s 76ms/step - loss: 0.2360 - accuracy: 0.9005\n",
      "Epoch 89/100\n",
      "1314/1314 [==============================] - 101s 77ms/step - loss: 0.2352 - accuracy: 0.9015\n",
      "Epoch 90/100\n",
      "1314/1314 [==============================] - 101s 77ms/step - loss: 0.2357 - accuracy: 0.9006\n",
      "Epoch 91/100\n",
      "1314/1314 [==============================] - 100s 76ms/step - loss: 0.2313 - accuracy: 0.9035\n",
      "Epoch 92/100\n",
      "1314/1314 [==============================] - 101s 77ms/step - loss: 0.2313 - accuracy: 0.9028\n",
      "Epoch 93/100\n",
      "1314/1314 [==============================] - 102s 77ms/step - loss: 0.2321 - accuracy: 0.9029\n",
      "Epoch 94/100\n",
      "1314/1314 [==============================] - 101s 77ms/step - loss: 0.2299 - accuracy: 0.9028\n",
      "Epoch 95/100\n",
      "1314/1314 [==============================] - 101s 77ms/step - loss: 0.2314 - accuracy: 0.9035\n",
      "Epoch 96/100\n",
      "1314/1314 [==============================] - 101s 77ms/step - loss: 0.2305 - accuracy: 0.9025\n",
      "Epoch 97/100\n",
      "1314/1314 [==============================] - 101s 77ms/step - loss: 0.2309 - accuracy: 0.9035\n",
      "Epoch 98/100\n",
      "1314/1314 [==============================] - 100s 76ms/step - loss: 0.2300 - accuracy: 0.9045\n",
      "Epoch 99/100\n",
      "1314/1314 [==============================] - 100s 76ms/step - loss: 0.2271 - accuracy: 0.9049\n",
      "Epoch 100/100\n",
      "1314/1314 [==============================] - 101s 77ms/step - loss: 0.2302 - accuracy: 0.9035\n"
     ]
    }
   ],
   "source": [
    "# Fit the model to the training data\n",
    "history=model.fit(x_tr, y_tr1, batch_size=64, epochs=100)"
   ]
  },
  {
   "cell_type": "code",
   "execution_count": null,
   "id": "8c90925b",
   "metadata": {},
   "outputs": [],
   "source": [
    "# _, accuracy = model.evaluate(x_ts, y_ts1, batch_size=64, verbose=0)"
   ]
  },
  {
   "cell_type": "code",
   "execution_count": null,
   "id": "4affc10a",
   "metadata": {},
   "outputs": [],
   "source": [
    "# accuracy"
   ]
  },
  {
   "cell_type": "code",
   "execution_count": 18,
   "id": "a59f0cb0",
   "metadata": {},
   "outputs": [
    {
     "name": "stdout",
     "output_type": "stream",
     "text": [
      "657/657 [==============================] - 10s 14ms/step\n"
     ]
    }
   ],
   "source": [
    "prediction = model.predict(x_ts)"
   ]
  },
  {
   "cell_type": "code",
   "execution_count": 19,
   "id": "76094272",
   "metadata": {},
   "outputs": [],
   "source": [
    "prediction_NN=np.argmax(prediction, axis=-1)"
   ]
  },
  {
   "cell_type": "code",
   "execution_count": 20,
   "id": "456d02d0",
   "metadata": {},
   "outputs": [
    {
     "data": {
      "text/plain": [
       "array([0, 0, 0, ..., 4, 4, 4], dtype=int64)"
      ]
     },
     "execution_count": 20,
     "metadata": {},
     "output_type": "execute_result"
    }
   ],
   "source": [
    "prediction_NN"
   ]
  },
  {
   "cell_type": "code",
   "execution_count": 21,
   "id": "f8f21795",
   "metadata": {},
   "outputs": [],
   "source": [
    "y_ts1_1=np.argmax(y_ts1, axis=-1)"
   ]
  },
  {
   "cell_type": "code",
   "execution_count": 22,
   "id": "69a72fa4",
   "metadata": {},
   "outputs": [
    {
     "data": {
      "text/plain": [
       "array([0, 0, 0, ..., 4, 4, 4], dtype=int64)"
      ]
     },
     "execution_count": 22,
     "metadata": {},
     "output_type": "execute_result"
    }
   ],
   "source": [
    "y_ts1_1"
   ]
  },
  {
   "cell_type": "code",
   "execution_count": 23,
   "id": "93b307e7",
   "metadata": {},
   "outputs": [
    {
     "name": "stdout",
     "output_type": "stream",
     "text": [
      "Accuracy =  0.9454908675799086\n"
     ]
    }
   ],
   "source": [
    "from sklearn import metrics\n",
    "print (\"Accuracy = \", metrics.accuracy_score(y_ts1_1, prediction_NN))"
   ]
  },
  {
   "cell_type": "code",
   "execution_count": 26,
   "id": "8362674d",
   "metadata": {},
   "outputs": [],
   "source": [
    "model.save('M1_all_imgs_1lyr.h5')"
   ]
  },
  {
   "cell_type": "code",
   "execution_count": 24,
   "id": "533857e6",
   "metadata": {},
   "outputs": [
    {
     "name": "stdout",
     "output_type": "stream",
     "text": [
      "[[11603    86    12   185    40]\n",
      " [  144  1249     1    32   151]\n",
      " [   35     0  1498     0     3]\n",
      " [  119    39     0   981   122]\n",
      " [   47    37     2    91  4547]]\n"
     ]
    }
   ],
   "source": [
    "#Confusion Matrix - verify accuracy of each class\n",
    "from sklearn.metrics import confusion_matrix\n",
    "cm = confusion_matrix(y_ts1_1, prediction_NN)\n",
    "print(cm)"
   ]
  },
  {
   "cell_type": "code",
   "execution_count": 25,
   "id": "36b85e5d",
   "metadata": {},
   "outputs": [
    {
     "name": "stdout",
     "output_type": "stream",
     "text": [
      "              precision    recall  f1-score   support\n",
      "\n",
      "     Class 0      0.971     0.973     0.972     11926\n",
      "     Class 1      0.885     0.792     0.836      1577\n",
      "     Class 2      0.990     0.975     0.983      1536\n",
      "     Class 3      0.761     0.778     0.769      1261\n",
      "     Class 4      0.935     0.963     0.949      4724\n",
      "\n",
      "    accuracy                          0.945     21024\n",
      "   macro avg      0.908     0.896     0.902     21024\n",
      "weighted avg      0.945     0.945     0.945     21024\n",
      "\n"
     ]
    }
   ],
   "source": [
    "from sklearn.metrics import classification_report\n",
    "\n",
    "# print(class_labels)\n",
    "target_names = ['Class 0', 'Class 1', 'Class 2', 'Class 3', 'Class 4']\n",
    "print(classification_report(y_ts1_1, prediction_NN, target_names=target_names,digits=3))"
   ]
  },
  {
   "cell_type": "code",
   "execution_count": null,
   "id": "ff03a2c7",
   "metadata": {},
   "outputs": [],
   "source": [
    "# model.save(\"model_2DCNN_New1.1.h5\")"
   ]
  },
  {
   "cell_type": "code",
   "execution_count": null,
   "id": "e0996c47",
   "metadata": {},
   "outputs": [],
   "source": [
    "import matplotlib.pyplot as plt"
   ]
  },
  {
   "cell_type": "code",
   "execution_count": null,
   "id": "bc8ded41",
   "metadata": {},
   "outputs": [],
   "source": [
    "from mlxtend.plotting import plot_confusion_matrix"
   ]
  },
  {
   "cell_type": "code",
   "execution_count": null,
   "id": "91630769",
   "metadata": {},
   "outputs": [],
   "source": [
    "# class_dict = {0: 'Class 0',\n",
    "#               1: 'Class 1',\n",
    "#               2: 'Class 2',\n",
    "#               3: 'Class 3',\n",
    "#               4: 'Class 4'}\n",
    "\n",
    "# multiclass = np.array([[11441,    16,    27,   232,   169],\n",
    "#                        [567,   669,     0,   179,   141],\n",
    "#                        [780,     1,   774,     0,     1],\n",
    "#                        [53,     1,     0,  1124,    91],\n",
    "#                        [5,     0,     0,    48,  4706]])\n",
    "\n",
    "# fig, ax = plot_confusion_matrix(\n",
    "#     conf_mat=multiclass,\n",
    "#     class_names=class_dict.values(),show_normed=True,colorbar=True)"
   ]
  },
  {
   "cell_type": "code",
   "execution_count": null,
   "id": "ea41c4e2",
   "metadata": {},
   "outputs": [],
   "source": []
  }
 ],
 "metadata": {
  "kernelspec": {
   "display_name": "Python 3 (ipykernel)",
   "language": "python",
   "name": "python3"
  },
  "language_info": {
   "codemirror_mode": {
    "name": "ipython",
    "version": 3
   },
   "file_extension": ".py",
   "mimetype": "text/x-python",
   "name": "python",
   "nbconvert_exporter": "python",
   "pygments_lexer": "ipython3",
   "version": "3.9.13"
  }
 },
 "nbformat": 4,
 "nbformat_minor": 5
}
